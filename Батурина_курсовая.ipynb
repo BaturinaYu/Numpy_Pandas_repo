{
 "cells": [
  {
   "cell_type": "markdown",
   "id": "dbb865d5",
   "metadata": {},
   "source": [
    "### Подключение библиотек и скриптов"
   ]
  },
  {
   "cell_type": "code",
   "execution_count": 841,
   "id": "61529bd3",
   "metadata": {},
   "outputs": [],
   "source": [
    "# 1. Основные библиотеки\n",
    "import numpy as np\n",
    "import pandas as pd\n",
    "import pickle   # сохранение модели\n",
    "\n",
    "import matplotlib\n",
    "import matplotlib.pyplot as plt\n",
    "import seaborn as sns\n",
    "%matplotlib inline\n",
    "\n",
    "# 2. Разделение датасета\n",
    "from sklearn.model_selection import train_test_split, KFold, GridSearchCV\n",
    "\n",
    "# 3. Модели\n",
    "from sklearn.linear_model import LinearRegression\n",
    "from sklearn.tree import DecisionTreeRegressor, plot_tree\n",
    "from sklearn.ensemble import RandomForestRegressor, GradientBoostingRegressor, RandomForestClassifier\n",
    "from sklearn.preprocessing import StandardScaler, RobustScaler\n",
    "\n",
    "# 4. Метрики качества\n",
    "from sklearn.metrics import mean_squared_error as mse, r2_score as r2\n",
    "\n",
    "# 5. Для визуализации внешних картинок в ноутбуке\n",
    "from IPython.display import Image"
   ]
  },
  {
   "cell_type": "code",
   "execution_count": 842,
   "id": "c09e9a7c",
   "metadata": {},
   "outputs": [],
   "source": [
    "# устанавливаем размер шрифта для графиков\n",
    "matplotlib.rcParams.update({'font.size': 14})\n",
    "# отключает ненужные предупреждения\n",
    "pd.options.mode.chained_assignment = None  # default='warn'"
   ]
  },
  {
   "cell_type": "code",
   "execution_count": 843,
   "id": "4b3a6abe",
   "metadata": {},
   "outputs": [],
   "source": [
    "# Задаём переменные, содержащие путь к файлам с тренировочным и тестовым датасетами\n",
    "DATASET_PATH_TRAIN = r'.\\kaggle\\input\\real-estate-price-prediction-moscow\\train.csv'\n",
    "DATASET_PATH_TEST = r'.\\kaggle\\input\\real-estate-price-prediction-moscow\\test.csv'\n",
    "DATASET_PATH_SAMPLE = r'.\\kaggle\\input\\real-estate-price-prediction-moscow\\sample_submission.csv'"
   ]
  },
  {
   "cell_type": "markdown",
   "id": "adb75fcf",
   "metadata": {},
   "source": [
    "### Функции для обработки значений"
   ]
  },
  {
   "cell_type": "code",
   "execution_count": 844,
   "id": "543ae85a",
   "metadata": {},
   "outputs": [],
   "source": [
    "# Функция уменьшает объем памяти, занимаемый датасетом\n",
    "def reduce_mem_usage(df):\n",
    "    \"\"\" iterate through all the columns of a dataframe and modify the data type\n",
    "        to reduce memory usage.        \n",
    "    \"\"\"\n",
    "    start_mem = df.memory_usage().sum() / 1024**2\n",
    "    print('Memory usage of dataframe is {:.2f} MB'.format(start_mem))\n",
    "    \n",
    "    for col in df.columns:\n",
    "        col_type = df[col].dtype\n",
    "        \n",
    "        if col_type != object:\n",
    "            c_min = df[col].min()\n",
    "            c_max = df[col].max()\n",
    "            if str(col_type)[:3] == 'int':\n",
    "                if c_min > np.iinfo(np.int8).min and c_max < np.iinfo(np.int8).max:\n",
    "                    df[col] = df[col].astype(np.int8)\n",
    "                elif c_min > np.iinfo(np.int16).min and c_max < np.iinfo(np.int16).max:\n",
    "                    df[col] = df[col].astype(np.int16)\n",
    "                elif c_min > np.iinfo(np.int32).min and c_max < np.iinfo(np.int32).max:\n",
    "                    df[col] = df[col].astype(np.int32)\n",
    "                elif c_min > np.iinfo(np.int64).min and c_max < np.iinfo(np.int64).max:\n",
    "                    df[col] = df[col].astype(np.int64)  \n",
    "            else:\n",
    "                if c_min > np.finfo(np.float32).min and c_max < np.finfo(np.float32).max:\n",
    "                    df[col] = df[col].astype(np.float32)\n",
    "                else:\n",
    "                    df[col] = df[col].astype(np.float64)\n",
    "        else:\n",
    "            df[col] = df[col].astype('category')\n",
    "\n",
    "    end_mem = df.memory_usage().sum() / 1024**2\n",
    "    print('Memory usage after optimization is: {:.2f} MB'.format(end_mem))\n",
    "    print('Decreased by {:.1f}%'.format(100 * (start_mem - end_mem) / start_mem))\n",
    "    \n",
    "    return df"
   ]
  },
  {
   "cell_type": "code",
   "execution_count": 845,
   "id": "a99e464d",
   "metadata": {},
   "outputs": [],
   "source": [
    "# Функция для представления результатов прогнозирования\n",
    "def evaluate_preds(train_true_values, train_pred_values, test_true_values, test_pred_values):\n",
    "    print(\"Train R2:\\t\" + str(round(r2(train_true_values, train_pred_values), 3)))\n",
    "    print(\"Test R2:\\t\" + str(round(r2(test_true_values, test_pred_values), 3)))\n",
    "    \n",
    "    plt.figure(figsize=(18,10))\n",
    "    \n",
    "    plt.subplot(121)\n",
    "    sns.scatterplot(x=train_pred_values, y=train_true_values)\n",
    "    plt.xlabel('Predicted values')\n",
    "    plt.ylabel('True values')\n",
    "    plt.title('Train sample prediction')\n",
    "    \n",
    "    plt.subplot(122)\n",
    "    sns.scatterplot(x=test_pred_values, y=test_true_values)\n",
    "    plt.xlabel('Predicted values')\n",
    "    plt.ylabel('True values')\n",
    "    plt.title('Test sample prediction')\n",
    "\n",
    "    plt.show()"
   ]
  },
  {
   "cell_type": "code",
   "execution_count": 846,
   "id": "fe1751f4",
   "metadata": {},
   "outputs": [],
   "source": [
    "# Класс для предварительной обработки тренировочных и тестовых данных\n",
    "class DataPreprocessor:\n",
    "    def __init__(self):\n",
    "        self.medians = None\n",
    "        self.quantiles = None\n",
    "        self.delta = None\n",
    "        \n",
    "    def fit(self, df):\n",
    "        # Сохраняем медианы и квантили\n",
    "        self.medians = df.median() # medians\n",
    "        self.quantiles = df.quantile([0.025, 0.975])\n",
    "        df_temp = df.loc[df['LifeSquare'].between(6, self.quantiles.LifeSquare[0.975]) \n",
    "                         & ~df['LifeSquare'].isna(), ['Square', 'LifeSquare', 'KitchenSquare']]\n",
    "        self.delta = 1 - (df_temp['Square'].median()-df_temp['LifeSquare'].median())//df_temp['Square'].median()\n",
    "        \n",
    "    def transform(self, df):\n",
    "        # Обрабатываем выбросы\n",
    "        cols = ['Rooms', 'Square', 'KitchenSquare', 'Floor', 'HouseFloor', 'Ecology_1','Social_1',\n",
    "                'Social_2', 'Social_3', 'Helthcare_2', 'Shops_1']\n",
    "        for col in cols:\n",
    "            df.loc[(df[col] < self.quantiles.loc[0.025, col]) \n",
    "                   | (df[col] > self.quantiles.loc[0.975, col]), col] = self.medians[col]\n",
    "        \n",
    "        # Обрабатываем некорректные значения признаков:\n",
    "        # Rooms\n",
    "        df.loc[df['Rooms']==0, 'Rooms'] = 1\n",
    "        df.loc[X['Rooms'] > 6, 'Rooms'] = self.medians.Rooms\n",
    "  \n",
    "        # Kitchen Square\n",
    "        df.loc[df['KitchenSquare'] < 3, 'KitchenSquare'] = self.medians.KitchenSquare\n",
    "   \n",
    "        # LifeSquare\n",
    "        df.loc[df['LifeSquare'].isna(), 'LifeSquare'] = df['Square'] * self.delta\n",
    "        \n",
    "        # Жилую площадь, большую чем Общая, заменяем на высчитанное значение self.delta\n",
    "        df.loc[df['LifeSquare'] >= df['Square'], 'LifeSquare'] = df['Square'] * self.delta\n",
    "        \n",
    "        # Если жилая площадь и площадь кухни суммарно больше общей площади, заменяем жилую площадь \n",
    "        # на высчитанное значение self.delta\n",
    "        df.loc[(df['LifeSquare'] + df['KitchenSquare']) \n",
    "               > df['Square'], 'LifeSquare'] = df['Square'] * self.delta\n",
    "    \n",
    "        # Floor, HouseFloor\n",
    "        df.loc[df['Floor'] == 0, 'Floor'] = self.medians.Floor\n",
    "        df.loc[df['HouseFloor'] == 0, 'HouseFloor'] = self.medians.HouseFloor\n",
    "        df.loc[df['HouseFloor'] < df['Floor'], 'Floor'] = df['HouseFloor']\n",
    "\n",
    "        # HouseYear\n",
    "        df.loc[df['HouseYear'] < 1910, 'HouseYear'] = 1910\n",
    "        df.loc[df['HouseYear'] > 2021, 'HouseYear'] = 2021\n",
    "\n",
    "        # Делаем категориальные признаки Ecology_3 и Shops_2 бинарными\n",
    "        df.replace({'Ecology_2': {'A': 0, 'B': 1}}, inplace=True)\n",
    "        df.replace({'Ecology_3': {'A': 0, 'B': 1}}, inplace=True)\n",
    "        df.replace({'Shops_2': {'A': 0, 'B': 1}}, inplace=True)\n",
    "        \n",
    "        # Заполняем пропуски соответствующим значением медианы\n",
    "        df.fillna(self.medians, inplace=True)\n",
    "      \n",
    "        return df"
   ]
  },
  {
   "cell_type": "code",
   "execution_count": 847,
   "id": "bdb121ac",
   "metadata": {},
   "outputs": [],
   "source": [
    "# Функция для добавления новых признаков\n",
    "def add_features(df, features):\n",
    "    df.merge(features['house_age'], on=['HouseYear'], how='left')\n",
    "    df.merge(features['med_price_dist'], on=['DistrictId'], how='left')\n",
    "    df.merge(features['med_soc_eco'], on=['Social_1', 'Ecology_1'], how='left')\n",
    "    \n",
    "    #df = df.drop(['Id', 'Healthcare_1', 'HouseYear', 'Social_1', 'Ecology_1'], 1)\n",
    "    df = df.drop(['Id', 'Healthcare_1'], 1)\n",
    "    \n",
    "    return df"
   ]
  },
  {
   "cell_type": "markdown",
   "id": "2f0b3c5f",
   "metadata": {},
   "source": [
    "### Загрузка данных"
   ]
  },
  {
   "cell_type": "markdown",
   "id": "2c0ff57a",
   "metadata": {},
   "source": [
    "**Описание датасета**\n",
    "\n",
    "* **Id** - идентификационный номер квартиры\n",
    "* **DistrictId** - идентификационный номер района\n",
    "* **Rooms** - количество комнат\n",
    "* **Square** - площадь\n",
    "* **LifeSquare** - жилая площадь\n",
    "* **KitchenSquare** - площадь кухни\n",
    "* **Floor** - этаж\n",
    "* **HouseFloor** - количество этажей в доме\n",
    "* **HouseYear** - год постройки дома\n",
    "* **Ecology_1, Ecology_2, Ecology_3** - экологические показатели местности\n",
    "* **Social_1, Social_2, Social_3** - социальные показатели местности\n",
    "* **Healthcare_1, Helthcare_2** - показатели местности, связанные с охраной здоровья\n",
    "* **Shops_1, Shops_2** - показатели, связанные с наличием магазинов, торговых центров\n",
    "* **Price** - цена квартиры"
   ]
  },
  {
   "cell_type": "code",
   "execution_count": 848,
   "id": "bd5fb51a",
   "metadata": {
    "scrolled": true
   },
   "outputs": [],
   "source": [
    "# Загружаем датасеты из файлов csv в переменные df_train и df_test\n",
    "df_train = pd.read_csv(DATASET_PATH_TRAIN)\n",
    "df_test = pd.read_csv(DATASET_PATH_TEST)"
   ]
  },
  {
   "cell_type": "code",
   "execution_count": 849,
   "id": "4fa99819",
   "metadata": {},
   "outputs": [
    {
     "name": "stdout",
     "output_type": "stream",
     "text": [
      "<class 'pandas.core.frame.DataFrame'>\n",
      "RangeIndex: 10000 entries, 0 to 9999\n",
      "Data columns (total 20 columns):\n",
      " #   Column         Non-Null Count  Dtype  \n",
      "---  ------         --------------  -----  \n",
      " 0   Id             10000 non-null  int64  \n",
      " 1   DistrictId     10000 non-null  int64  \n",
      " 2   Rooms          10000 non-null  float64\n",
      " 3   Square         10000 non-null  float64\n",
      " 4   LifeSquare     7887 non-null   float64\n",
      " 5   KitchenSquare  10000 non-null  float64\n",
      " 6   Floor          10000 non-null  int64  \n",
      " 7   HouseFloor     10000 non-null  float64\n",
      " 8   HouseYear      10000 non-null  int64  \n",
      " 9   Ecology_1      10000 non-null  float64\n",
      " 10  Ecology_2      10000 non-null  object \n",
      " 11  Ecology_3      10000 non-null  object \n",
      " 12  Social_1       10000 non-null  int64  \n",
      " 13  Social_2       10000 non-null  int64  \n",
      " 14  Social_3       10000 non-null  int64  \n",
      " 15  Healthcare_1   5202 non-null   float64\n",
      " 16  Helthcare_2    10000 non-null  int64  \n",
      " 17  Shops_1        10000 non-null  int64  \n",
      " 18  Shops_2        10000 non-null  object \n",
      " 19  Price          10000 non-null  float64\n",
      "dtypes: float64(8), int64(9), object(3)\n",
      "memory usage: 1.5+ MB\n"
     ]
    }
   ],
   "source": [
    "# Выводим информацию о тренировочном датасете:\n",
    "# - всего 10000 записей\n",
    "# - всего 20 признаков, из них:\n",
    "#   - 3 признака номинативные\n",
    "#   - 17 количественных признаков\n",
    "# - по признакам LifeSquare и Healthcare_1 есть пропуски\n",
    "df_train.info()"
   ]
  },
  {
   "cell_type": "code",
   "execution_count": 850,
   "id": "a9c859d4",
   "metadata": {
    "scrolled": true
   },
   "outputs": [
    {
     "name": "stdout",
     "output_type": "stream",
     "text": [
      "<class 'pandas.core.frame.DataFrame'>\n",
      "RangeIndex: 5000 entries, 0 to 4999\n",
      "Data columns (total 19 columns):\n",
      " #   Column         Non-Null Count  Dtype  \n",
      "---  ------         --------------  -----  \n",
      " 0   Id             5000 non-null   int64  \n",
      " 1   DistrictId     5000 non-null   int64  \n",
      " 2   Rooms          5000 non-null   float64\n",
      " 3   Square         5000 non-null   float64\n",
      " 4   LifeSquare     3959 non-null   float64\n",
      " 5   KitchenSquare  5000 non-null   float64\n",
      " 6   Floor          5000 non-null   int64  \n",
      " 7   HouseFloor     5000 non-null   float64\n",
      " 8   HouseYear      5000 non-null   int64  \n",
      " 9   Ecology_1      5000 non-null   float64\n",
      " 10  Ecology_2      5000 non-null   object \n",
      " 11  Ecology_3      5000 non-null   object \n",
      " 12  Social_1       5000 non-null   int64  \n",
      " 13  Social_2       5000 non-null   int64  \n",
      " 14  Social_3       5000 non-null   int64  \n",
      " 15  Healthcare_1   2623 non-null   float64\n",
      " 16  Helthcare_2    5000 non-null   int64  \n",
      " 17  Shops_1        5000 non-null   int64  \n",
      " 18  Shops_2        5000 non-null   object \n",
      "dtypes: float64(7), int64(9), object(3)\n",
      "memory usage: 742.3+ KB\n"
     ]
    }
   ],
   "source": [
    "# Выводим информацию о тестовом датасете\n",
    "# Выводим информацию о тренировочном датасете:\n",
    "# - всего 5000 записей\n",
    "# - всего 20 признаков, из них:\n",
    "#   - 3 признака номинативные\n",
    "#   - 17 количественных признаков\n",
    "# - по признакам LifeSquare и Healthcare_1 есть пропуски\n",
    "df_test.info()"
   ]
  },
  {
   "cell_type": "code",
   "execution_count": 851,
   "id": "9b365e76",
   "metadata": {},
   "outputs": [
    {
     "data": {
      "text/plain": [
       "True"
      ]
     },
     "execution_count": 851,
     "metadata": {},
     "output_type": "execute_result"
    }
   ],
   "source": [
    "df_train.shape[1]-1 == df_test.shape[1]"
   ]
  },
  {
   "cell_type": "markdown",
   "id": "ec429a47",
   "metadata": {},
   "source": [
    "### Обзор признаков"
   ]
  },
  {
   "cell_type": "markdown",
   "id": "8ca3cdbb",
   "metadata": {},
   "source": [
    "###### Количественные признаки"
   ]
  },
  {
   "cell_type": "code",
   "execution_count": 852,
   "id": "367cb4b5",
   "metadata": {},
   "outputs": [
    {
     "data": {
      "text/plain": [
       "['Id',\n",
       " 'DistrictId',\n",
       " 'Rooms',\n",
       " 'Square',\n",
       " 'LifeSquare',\n",
       " 'KitchenSquare',\n",
       " 'Floor',\n",
       " 'HouseFloor',\n",
       " 'HouseYear',\n",
       " 'Ecology_1',\n",
       " 'Social_1',\n",
       " 'Social_2',\n",
       " 'Social_3',\n",
       " 'Healthcare_1',\n",
       " 'Helthcare_2',\n",
       " 'Shops_1',\n",
       " 'Price']"
      ]
     },
     "execution_count": 852,
     "metadata": {},
     "output_type": "execute_result"
    }
   ],
   "source": [
    "df_train.select_dtypes(include=['int64', 'float64']).columns.tolist()"
   ]
  },
  {
   "cell_type": "code",
   "execution_count": 853,
   "id": "f424033e",
   "metadata": {},
   "outputs": [
    {
     "data": {
      "text/html": [
       "<div>\n",
       "<style scoped>\n",
       "    .dataframe tbody tr th:only-of-type {\n",
       "        vertical-align: middle;\n",
       "    }\n",
       "\n",
       "    .dataframe tbody tr th {\n",
       "        vertical-align: top;\n",
       "    }\n",
       "\n",
       "    .dataframe thead th {\n",
       "        text-align: right;\n",
       "    }\n",
       "</style>\n",
       "<table border=\"1\" class=\"dataframe\">\n",
       "  <thead>\n",
       "    <tr style=\"text-align: right;\">\n",
       "      <th></th>\n",
       "      <th>Id</th>\n",
       "      <th>DistrictId</th>\n",
       "      <th>Rooms</th>\n",
       "      <th>Square</th>\n",
       "      <th>LifeSquare</th>\n",
       "      <th>KitchenSquare</th>\n",
       "      <th>Floor</th>\n",
       "      <th>HouseFloor</th>\n",
       "      <th>HouseYear</th>\n",
       "      <th>Ecology_1</th>\n",
       "      <th>Social_1</th>\n",
       "      <th>Social_2</th>\n",
       "      <th>Social_3</th>\n",
       "      <th>Healthcare_1</th>\n",
       "      <th>Helthcare_2</th>\n",
       "      <th>Shops_1</th>\n",
       "      <th>Price</th>\n",
       "    </tr>\n",
       "  </thead>\n",
       "  <tbody>\n",
       "    <tr>\n",
       "      <th>count</th>\n",
       "      <td>10000.00000</td>\n",
       "      <td>10000.000000</td>\n",
       "      <td>10000.000000</td>\n",
       "      <td>10000.000000</td>\n",
       "      <td>7887.000000</td>\n",
       "      <td>10000.000000</td>\n",
       "      <td>10000.000000</td>\n",
       "      <td>10000.000000</td>\n",
       "      <td>1.000000e+04</td>\n",
       "      <td>10000.000000</td>\n",
       "      <td>10000.000000</td>\n",
       "      <td>10000.000000</td>\n",
       "      <td>10000.000000</td>\n",
       "      <td>5202.000000</td>\n",
       "      <td>10000.000000</td>\n",
       "      <td>10000.000000</td>\n",
       "      <td>10000.000000</td>\n",
       "    </tr>\n",
       "    <tr>\n",
       "      <th>mean</th>\n",
       "      <td>8383.40770</td>\n",
       "      <td>50.400800</td>\n",
       "      <td>1.890500</td>\n",
       "      <td>56.315775</td>\n",
       "      <td>37.199645</td>\n",
       "      <td>6.273300</td>\n",
       "      <td>8.526700</td>\n",
       "      <td>12.609400</td>\n",
       "      <td>3.990166e+03</td>\n",
       "      <td>0.118858</td>\n",
       "      <td>24.687000</td>\n",
       "      <td>5352.157400</td>\n",
       "      <td>8.039200</td>\n",
       "      <td>1142.904460</td>\n",
       "      <td>1.319500</td>\n",
       "      <td>4.231300</td>\n",
       "      <td>214138.857399</td>\n",
       "    </tr>\n",
       "    <tr>\n",
       "      <th>std</th>\n",
       "      <td>4859.01902</td>\n",
       "      <td>43.587592</td>\n",
       "      <td>0.839512</td>\n",
       "      <td>21.058732</td>\n",
       "      <td>86.241209</td>\n",
       "      <td>28.560917</td>\n",
       "      <td>5.241148</td>\n",
       "      <td>6.775974</td>\n",
       "      <td>2.005003e+05</td>\n",
       "      <td>0.119025</td>\n",
       "      <td>17.532614</td>\n",
       "      <td>4006.799803</td>\n",
       "      <td>23.831875</td>\n",
       "      <td>1021.517264</td>\n",
       "      <td>1.493601</td>\n",
       "      <td>4.806341</td>\n",
       "      <td>92872.293865</td>\n",
       "    </tr>\n",
       "    <tr>\n",
       "      <th>min</th>\n",
       "      <td>0.00000</td>\n",
       "      <td>0.000000</td>\n",
       "      <td>0.000000</td>\n",
       "      <td>1.136859</td>\n",
       "      <td>0.370619</td>\n",
       "      <td>0.000000</td>\n",
       "      <td>1.000000</td>\n",
       "      <td>0.000000</td>\n",
       "      <td>1.910000e+03</td>\n",
       "      <td>0.000000</td>\n",
       "      <td>0.000000</td>\n",
       "      <td>168.000000</td>\n",
       "      <td>0.000000</td>\n",
       "      <td>0.000000</td>\n",
       "      <td>0.000000</td>\n",
       "      <td>0.000000</td>\n",
       "      <td>59174.778028</td>\n",
       "    </tr>\n",
       "    <tr>\n",
       "      <th>25%</th>\n",
       "      <td>4169.50000</td>\n",
       "      <td>20.000000</td>\n",
       "      <td>1.000000</td>\n",
       "      <td>41.774881</td>\n",
       "      <td>22.769832</td>\n",
       "      <td>1.000000</td>\n",
       "      <td>4.000000</td>\n",
       "      <td>9.000000</td>\n",
       "      <td>1.974000e+03</td>\n",
       "      <td>0.017647</td>\n",
       "      <td>6.000000</td>\n",
       "      <td>1564.000000</td>\n",
       "      <td>0.000000</td>\n",
       "      <td>350.000000</td>\n",
       "      <td>0.000000</td>\n",
       "      <td>1.000000</td>\n",
       "      <td>153872.633942</td>\n",
       "    </tr>\n",
       "    <tr>\n",
       "      <th>50%</th>\n",
       "      <td>8394.50000</td>\n",
       "      <td>36.000000</td>\n",
       "      <td>2.000000</td>\n",
       "      <td>52.513310</td>\n",
       "      <td>32.781260</td>\n",
       "      <td>6.000000</td>\n",
       "      <td>7.000000</td>\n",
       "      <td>13.000000</td>\n",
       "      <td>1.977000e+03</td>\n",
       "      <td>0.075424</td>\n",
       "      <td>25.000000</td>\n",
       "      <td>5285.000000</td>\n",
       "      <td>2.000000</td>\n",
       "      <td>900.000000</td>\n",
       "      <td>1.000000</td>\n",
       "      <td>3.000000</td>\n",
       "      <td>192269.644879</td>\n",
       "    </tr>\n",
       "    <tr>\n",
       "      <th>75%</th>\n",
       "      <td>12592.50000</td>\n",
       "      <td>75.000000</td>\n",
       "      <td>2.000000</td>\n",
       "      <td>65.900625</td>\n",
       "      <td>45.128803</td>\n",
       "      <td>9.000000</td>\n",
       "      <td>12.000000</td>\n",
       "      <td>17.000000</td>\n",
       "      <td>2.001000e+03</td>\n",
       "      <td>0.195781</td>\n",
       "      <td>36.000000</td>\n",
       "      <td>7227.000000</td>\n",
       "      <td>5.000000</td>\n",
       "      <td>1548.000000</td>\n",
       "      <td>2.000000</td>\n",
       "      <td>6.000000</td>\n",
       "      <td>249135.462171</td>\n",
       "    </tr>\n",
       "    <tr>\n",
       "      <th>max</th>\n",
       "      <td>16798.00000</td>\n",
       "      <td>209.000000</td>\n",
       "      <td>19.000000</td>\n",
       "      <td>641.065193</td>\n",
       "      <td>7480.592129</td>\n",
       "      <td>2014.000000</td>\n",
       "      <td>42.000000</td>\n",
       "      <td>117.000000</td>\n",
       "      <td>2.005201e+07</td>\n",
       "      <td>0.521867</td>\n",
       "      <td>74.000000</td>\n",
       "      <td>19083.000000</td>\n",
       "      <td>141.000000</td>\n",
       "      <td>4849.000000</td>\n",
       "      <td>6.000000</td>\n",
       "      <td>23.000000</td>\n",
       "      <td>633233.466570</td>\n",
       "    </tr>\n",
       "  </tbody>\n",
       "</table>\n",
       "</div>"
      ],
      "text/plain": [
       "                Id    DistrictId         Rooms        Square   LifeSquare  \\\n",
       "count  10000.00000  10000.000000  10000.000000  10000.000000  7887.000000   \n",
       "mean    8383.40770     50.400800      1.890500     56.315775    37.199645   \n",
       "std     4859.01902     43.587592      0.839512     21.058732    86.241209   \n",
       "min        0.00000      0.000000      0.000000      1.136859     0.370619   \n",
       "25%     4169.50000     20.000000      1.000000     41.774881    22.769832   \n",
       "50%     8394.50000     36.000000      2.000000     52.513310    32.781260   \n",
       "75%    12592.50000     75.000000      2.000000     65.900625    45.128803   \n",
       "max    16798.00000    209.000000     19.000000    641.065193  7480.592129   \n",
       "\n",
       "       KitchenSquare         Floor    HouseFloor     HouseYear     Ecology_1  \\\n",
       "count   10000.000000  10000.000000  10000.000000  1.000000e+04  10000.000000   \n",
       "mean        6.273300      8.526700     12.609400  3.990166e+03      0.118858   \n",
       "std        28.560917      5.241148      6.775974  2.005003e+05      0.119025   \n",
       "min         0.000000      1.000000      0.000000  1.910000e+03      0.000000   \n",
       "25%         1.000000      4.000000      9.000000  1.974000e+03      0.017647   \n",
       "50%         6.000000      7.000000     13.000000  1.977000e+03      0.075424   \n",
       "75%         9.000000     12.000000     17.000000  2.001000e+03      0.195781   \n",
       "max      2014.000000     42.000000    117.000000  2.005201e+07      0.521867   \n",
       "\n",
       "           Social_1      Social_2      Social_3  Healthcare_1   Helthcare_2  \\\n",
       "count  10000.000000  10000.000000  10000.000000   5202.000000  10000.000000   \n",
       "mean      24.687000   5352.157400      8.039200   1142.904460      1.319500   \n",
       "std       17.532614   4006.799803     23.831875   1021.517264      1.493601   \n",
       "min        0.000000    168.000000      0.000000      0.000000      0.000000   \n",
       "25%        6.000000   1564.000000      0.000000    350.000000      0.000000   \n",
       "50%       25.000000   5285.000000      2.000000    900.000000      1.000000   \n",
       "75%       36.000000   7227.000000      5.000000   1548.000000      2.000000   \n",
       "max       74.000000  19083.000000    141.000000   4849.000000      6.000000   \n",
       "\n",
       "            Shops_1          Price  \n",
       "count  10000.000000   10000.000000  \n",
       "mean       4.231300  214138.857399  \n",
       "std        4.806341   92872.293865  \n",
       "min        0.000000   59174.778028  \n",
       "25%        1.000000  153872.633942  \n",
       "50%        3.000000  192269.644879  \n",
       "75%        6.000000  249135.462171  \n",
       "max       23.000000  633233.466570  "
      ]
     },
     "execution_count": 853,
     "metadata": {},
     "output_type": "execute_result"
    }
   ],
   "source": [
    "# Посмотрим статистические показатели по количественным признакам\n",
    "# 1. Присутствуют некорректные значения признаков\n",
    "#    - Rooms=0, HouseFloor=0\n",
    "#    - слишком маленькие или большие значения площади\n",
    "#    - большие значения отклонений от среднего значения\n",
    "df_train.describe()"
   ]
  },
  {
   "cell_type": "markdown",
   "id": "93962698",
   "metadata": {},
   "source": [
    "###### Номинативные признаки"
   ]
  },
  {
   "cell_type": "code",
   "execution_count": 854,
   "id": "cb002611",
   "metadata": {},
   "outputs": [
    {
     "data": {
      "text/plain": [
       "['Ecology_2', 'Ecology_3', 'Shops_2']"
      ]
     },
     "execution_count": 854,
     "metadata": {},
     "output_type": "execute_result"
    }
   ],
   "source": [
    "df_train.select_dtypes(include='object').columns.tolist()"
   ]
  },
  {
   "cell_type": "code",
   "execution_count": 855,
   "id": "2ee924f4",
   "metadata": {},
   "outputs": [
    {
     "data": {
      "text/plain": [
       "B    9903\n",
       "A      97\n",
       "Name: Ecology_2, dtype: int64"
      ]
     },
     "execution_count": 855,
     "metadata": {},
     "output_type": "execute_result"
    }
   ],
   "source": [
    "df_train['Ecology_2'].value_counts()"
   ]
  },
  {
   "cell_type": "code",
   "execution_count": 856,
   "id": "0cad19b8",
   "metadata": {},
   "outputs": [
    {
     "data": {
      "text/plain": [
       "B    9725\n",
       "A     275\n",
       "Name: Ecology_3, dtype: int64"
      ]
     },
     "execution_count": 856,
     "metadata": {},
     "output_type": "execute_result"
    }
   ],
   "source": [
    "df_train['Ecology_3'].value_counts()"
   ]
  },
  {
   "cell_type": "code",
   "execution_count": 857,
   "id": "0b75d200",
   "metadata": {},
   "outputs": [
    {
     "data": {
      "text/plain": [
       "B    9175\n",
       "A     825\n",
       "Name: Shops_2, dtype: int64"
      ]
     },
     "execution_count": 857,
     "metadata": {},
     "output_type": "execute_result"
    }
   ],
   "source": [
    "df_train['Shops_2'].value_counts()"
   ]
  },
  {
   "cell_type": "markdown",
   "id": "4b1daba1",
   "metadata": {},
   "source": [
    "###### Распределение целевой переменной"
   ]
  },
  {
   "cell_type": "code",
   "execution_count": 858,
   "id": "42bd8c7d",
   "metadata": {},
   "outputs": [],
   "source": [
    "target_mean = round(df_train['Price'].mean(), 2)\n",
    "target_median = df_train['Price'].median()\n",
    "target_mode = (df_train['Price']//10000*10000).mode()[0]"
   ]
  },
  {
   "cell_type": "code",
   "execution_count": 859,
   "id": "1995f729",
   "metadata": {},
   "outputs": [
    {
     "data": {
      "image/png": "[encoded data removed]",
      "text/plain": [
       "<Figure size 720x360 with 1 Axes>"
      ]
     },
     "metadata": {
      "needs_background": "light"
     },
     "output_type": "display_data"
    }
   ],
   "source": [
    "plt.figure(figsize = (10, 5))\n",
    "\n",
    "sns.histplot(df_train['Price'], bins=10)\n",
    "\n",
    "y = np.linspace(0, 0.000005, 10)\n",
    "plt.plot([target_mean] * 10, y, label='Среднее значение Price',  linewidth=4)\n",
    "plt.plot([target_median] * 10, y, label='Значение медианы Price',  linewidth=4)\n",
    "plt.plot([target_mode] * 10, y, label='Модальное значение Price', linewidth=4)\n",
    "plt.xlabel('Значение Price')\n",
    "plt.ylabel('Количество')\n",
    "\n",
    "plt.title('Распределение признака Price')\n",
    "plt.legend()\n",
    "plt.show()"
   ]
  },
  {
   "cell_type": "markdown",
   "id": "e6a3464b",
   "metadata": {},
   "source": [
    "### Анализ признаков"
   ]
  },
  {
   "cell_type": "code",
   "execution_count": 860,
   "id": "62ac478b",
   "metadata": {},
   "outputs": [
    {
     "name": "stdout",
     "output_type": "stream",
     "text": [
      "Memory usage of dataframe is 1.53 MB\n",
      "Memory usage after optimization is: 0.49 MB\n",
      "Decreased by 68.1%\n"
     ]
    },
    {
     "data": {
      "text/html": [
       "<div>\n",
       "<style scoped>\n",
       "    .dataframe tbody tr th:only-of-type {\n",
       "        vertical-align: middle;\n",
       "    }\n",
       "\n",
       "    .dataframe tbody tr th {\n",
       "        vertical-align: top;\n",
       "    }\n",
       "\n",
       "    .dataframe thead th {\n",
       "        text-align: right;\n",
       "    }\n",
       "</style>\n",
       "<table border=\"1\" class=\"dataframe\">\n",
       "  <thead>\n",
       "    <tr style=\"text-align: right;\">\n",
       "      <th></th>\n",
       "      <th>Id</th>\n",
       "      <th>DistrictId</th>\n",
       "      <th>Rooms</th>\n",
       "      <th>Square</th>\n",
       "      <th>LifeSquare</th>\n",
       "      <th>KitchenSquare</th>\n",
       "      <th>Floor</th>\n",
       "      <th>HouseFloor</th>\n",
       "      <th>HouseYear</th>\n",
       "      <th>Ecology_1</th>\n",
       "      <th>Ecology_2</th>\n",
       "      <th>Ecology_3</th>\n",
       "      <th>Social_1</th>\n",
       "      <th>Social_2</th>\n",
       "      <th>Social_3</th>\n",
       "      <th>Healthcare_1</th>\n",
       "      <th>Helthcare_2</th>\n",
       "      <th>Shops_1</th>\n",
       "      <th>Shops_2</th>\n",
       "      <th>Price</th>\n",
       "    </tr>\n",
       "  </thead>\n",
       "  <tbody>\n",
       "    <tr>\n",
       "      <th>0</th>\n",
       "      <td>11809</td>\n",
       "      <td>27</td>\n",
       "      <td>3.0</td>\n",
       "      <td>115.027313</td>\n",
       "      <td>NaN</td>\n",
       "      <td>10.0</td>\n",
       "      <td>4</td>\n",
       "      <td>10.0</td>\n",
       "      <td>2014</td>\n",
       "      <td>0.075424</td>\n",
       "      <td>B</td>\n",
       "      <td>B</td>\n",
       "      <td>11</td>\n",
       "      <td>3097</td>\n",
       "      <td>0</td>\n",
       "      <td>NaN</td>\n",
       "      <td>0</td>\n",
       "      <td>0</td>\n",
       "      <td>B</td>\n",
       "      <td>305018.875000</td>\n",
       "    </tr>\n",
       "    <tr>\n",
       "      <th>1</th>\n",
       "      <td>3013</td>\n",
       "      <td>22</td>\n",
       "      <td>1.0</td>\n",
       "      <td>39.832523</td>\n",
       "      <td>23.169222</td>\n",
       "      <td>8.0</td>\n",
       "      <td>7</td>\n",
       "      <td>8.0</td>\n",
       "      <td>1966</td>\n",
       "      <td>0.118537</td>\n",
       "      <td>B</td>\n",
       "      <td>B</td>\n",
       "      <td>30</td>\n",
       "      <td>6207</td>\n",
       "      <td>1</td>\n",
       "      <td>1183.0</td>\n",
       "      <td>1</td>\n",
       "      <td>0</td>\n",
       "      <td>B</td>\n",
       "      <td>177734.546875</td>\n",
       "    </tr>\n",
       "    <tr>\n",
       "      <th>2</th>\n",
       "      <td>8215</td>\n",
       "      <td>1</td>\n",
       "      <td>3.0</td>\n",
       "      <td>78.342216</td>\n",
       "      <td>47.671970</td>\n",
       "      <td>10.0</td>\n",
       "      <td>2</td>\n",
       "      <td>17.0</td>\n",
       "      <td>1988</td>\n",
       "      <td>0.025609</td>\n",
       "      <td>B</td>\n",
       "      <td>B</td>\n",
       "      <td>33</td>\n",
       "      <td>5261</td>\n",
       "      <td>0</td>\n",
       "      <td>240.0</td>\n",
       "      <td>3</td>\n",
       "      <td>1</td>\n",
       "      <td>B</td>\n",
       "      <td>282078.718750</td>\n",
       "    </tr>\n",
       "    <tr>\n",
       "      <th>3</th>\n",
       "      <td>2352</td>\n",
       "      <td>1</td>\n",
       "      <td>1.0</td>\n",
       "      <td>40.409908</td>\n",
       "      <td>NaN</td>\n",
       "      <td>1.0</td>\n",
       "      <td>10</td>\n",
       "      <td>22.0</td>\n",
       "      <td>1977</td>\n",
       "      <td>0.007122</td>\n",
       "      <td>B</td>\n",
       "      <td>B</td>\n",
       "      <td>1</td>\n",
       "      <td>264</td>\n",
       "      <td>0</td>\n",
       "      <td>NaN</td>\n",
       "      <td>0</td>\n",
       "      <td>1</td>\n",
       "      <td>B</td>\n",
       "      <td>168106.000000</td>\n",
       "    </tr>\n",
       "    <tr>\n",
       "      <th>4</th>\n",
       "      <td>13866</td>\n",
       "      <td>94</td>\n",
       "      <td>2.0</td>\n",
       "      <td>64.285065</td>\n",
       "      <td>38.562515</td>\n",
       "      <td>9.0</td>\n",
       "      <td>16</td>\n",
       "      <td>16.0</td>\n",
       "      <td>1972</td>\n",
       "      <td>0.282798</td>\n",
       "      <td>B</td>\n",
       "      <td>B</td>\n",
       "      <td>33</td>\n",
       "      <td>8667</td>\n",
       "      <td>2</td>\n",
       "      <td>NaN</td>\n",
       "      <td>0</td>\n",
       "      <td>6</td>\n",
       "      <td>B</td>\n",
       "      <td>343995.093750</td>\n",
       "    </tr>\n",
       "    <tr>\n",
       "      <th>...</th>\n",
       "      <td>...</td>\n",
       "      <td>...</td>\n",
       "      <td>...</td>\n",
       "      <td>...</td>\n",
       "      <td>...</td>\n",
       "      <td>...</td>\n",
       "      <td>...</td>\n",
       "      <td>...</td>\n",
       "      <td>...</td>\n",
       "      <td>...</td>\n",
       "      <td>...</td>\n",
       "      <td>...</td>\n",
       "      <td>...</td>\n",
       "      <td>...</td>\n",
       "      <td>...</td>\n",
       "      <td>...</td>\n",
       "      <td>...</td>\n",
       "      <td>...</td>\n",
       "      <td>...</td>\n",
       "      <td>...</td>\n",
       "    </tr>\n",
       "    <tr>\n",
       "      <th>9995</th>\n",
       "      <td>1260</td>\n",
       "      <td>61</td>\n",
       "      <td>2.0</td>\n",
       "      <td>49.090729</td>\n",
       "      <td>33.272625</td>\n",
       "      <td>6.0</td>\n",
       "      <td>3</td>\n",
       "      <td>12.0</td>\n",
       "      <td>1981</td>\n",
       "      <td>0.300323</td>\n",
       "      <td>B</td>\n",
       "      <td>B</td>\n",
       "      <td>52</td>\n",
       "      <td>10311</td>\n",
       "      <td>6</td>\n",
       "      <td>NaN</td>\n",
       "      <td>1</td>\n",
       "      <td>9</td>\n",
       "      <td>B</td>\n",
       "      <td>119367.453125</td>\n",
       "    </tr>\n",
       "    <tr>\n",
       "      <th>9996</th>\n",
       "      <td>16265</td>\n",
       "      <td>27</td>\n",
       "      <td>2.0</td>\n",
       "      <td>64.307686</td>\n",
       "      <td>37.038422</td>\n",
       "      <td>9.0</td>\n",
       "      <td>13</td>\n",
       "      <td>0.0</td>\n",
       "      <td>1977</td>\n",
       "      <td>0.072158</td>\n",
       "      <td>B</td>\n",
       "      <td>B</td>\n",
       "      <td>2</td>\n",
       "      <td>629</td>\n",
       "      <td>1</td>\n",
       "      <td>NaN</td>\n",
       "      <td>0</td>\n",
       "      <td>0</td>\n",
       "      <td>A</td>\n",
       "      <td>199715.156250</td>\n",
       "    </tr>\n",
       "    <tr>\n",
       "      <th>9997</th>\n",
       "      <td>2795</td>\n",
       "      <td>178</td>\n",
       "      <td>1.0</td>\n",
       "      <td>29.648056</td>\n",
       "      <td>16.555363</td>\n",
       "      <td>5.0</td>\n",
       "      <td>3</td>\n",
       "      <td>5.0</td>\n",
       "      <td>1958</td>\n",
       "      <td>0.460556</td>\n",
       "      <td>B</td>\n",
       "      <td>B</td>\n",
       "      <td>20</td>\n",
       "      <td>4386</td>\n",
       "      <td>14</td>\n",
       "      <td>NaN</td>\n",
       "      <td>1</td>\n",
       "      <td>5</td>\n",
       "      <td>B</td>\n",
       "      <td>165953.906250</td>\n",
       "    </tr>\n",
       "    <tr>\n",
       "      <th>9998</th>\n",
       "      <td>14561</td>\n",
       "      <td>21</td>\n",
       "      <td>1.0</td>\n",
       "      <td>32.330292</td>\n",
       "      <td>22.326870</td>\n",
       "      <td>5.0</td>\n",
       "      <td>3</td>\n",
       "      <td>9.0</td>\n",
       "      <td>1969</td>\n",
       "      <td>0.194489</td>\n",
       "      <td>B</td>\n",
       "      <td>B</td>\n",
       "      <td>47</td>\n",
       "      <td>8004</td>\n",
       "      <td>3</td>\n",
       "      <td>125.0</td>\n",
       "      <td>3</td>\n",
       "      <td>5</td>\n",
       "      <td>B</td>\n",
       "      <td>171842.406250</td>\n",
       "    </tr>\n",
       "    <tr>\n",
       "      <th>9999</th>\n",
       "      <td>7202</td>\n",
       "      <td>94</td>\n",
       "      <td>1.0</td>\n",
       "      <td>35.815475</td>\n",
       "      <td>22.301367</td>\n",
       "      <td>6.0</td>\n",
       "      <td>9</td>\n",
       "      <td>9.0</td>\n",
       "      <td>1975</td>\n",
       "      <td>0.127376</td>\n",
       "      <td>B</td>\n",
       "      <td>B</td>\n",
       "      <td>43</td>\n",
       "      <td>8429</td>\n",
       "      <td>3</td>\n",
       "      <td>NaN</td>\n",
       "      <td>3</td>\n",
       "      <td>9</td>\n",
       "      <td>B</td>\n",
       "      <td>177685.625000</td>\n",
       "    </tr>\n",
       "  </tbody>\n",
       "</table>\n",
       "<p>10000 rows × 20 columns</p>\n",
       "</div>"
      ],
      "text/plain": [
       "         Id  DistrictId  Rooms      Square  LifeSquare  KitchenSquare  Floor  \\\n",
       "0     11809          27    3.0  115.027313         NaN           10.0      4   \n",
       "1      3013          22    1.0   39.832523   23.169222            8.0      7   \n",
       "2      8215           1    3.0   78.342216   47.671970           10.0      2   \n",
       "3      2352           1    1.0   40.409908         NaN            1.0     10   \n",
       "4     13866          94    2.0   64.285065   38.562515            9.0     16   \n",
       "...     ...         ...    ...         ...         ...            ...    ...   \n",
       "9995   1260          61    2.0   49.090729   33.272625            6.0      3   \n",
       "9996  16265          27    2.0   64.307686   37.038422            9.0     13   \n",
       "9997   2795         178    1.0   29.648056   16.555363            5.0      3   \n",
       "9998  14561          21    1.0   32.330292   22.326870            5.0      3   \n",
       "9999   7202          94    1.0   35.815475   22.301367            6.0      9   \n",
       "\n",
       "      HouseFloor  HouseYear  Ecology_1 Ecology_2 Ecology_3  Social_1  \\\n",
       "0           10.0       2014   0.075424         B         B        11   \n",
       "1            8.0       1966   0.118537         B         B        30   \n",
       "2           17.0       1988   0.025609         B         B        33   \n",
       "3           22.0       1977   0.007122         B         B         1   \n",
       "4           16.0       1972   0.282798         B         B        33   \n",
       "...          ...        ...        ...       ...       ...       ...   \n",
       "9995        12.0       1981   0.300323         B         B        52   \n",
       "9996         0.0       1977   0.072158         B         B         2   \n",
       "9997         5.0       1958   0.460556         B         B        20   \n",
       "9998         9.0       1969   0.194489         B         B        47   \n",
       "9999         9.0       1975   0.127376         B         B        43   \n",
       "\n",
       "      Social_2  Social_3  Healthcare_1  Helthcare_2  Shops_1 Shops_2  \\\n",
       "0         3097         0           NaN            0        0       B   \n",
       "1         6207         1        1183.0            1        0       B   \n",
       "2         5261         0         240.0            3        1       B   \n",
       "3          264         0           NaN            0        1       B   \n",
       "4         8667         2           NaN            0        6       B   \n",
       "...        ...       ...           ...          ...      ...     ...   \n",
       "9995     10311         6           NaN            1        9       B   \n",
       "9996       629         1           NaN            0        0       A   \n",
       "9997      4386        14           NaN            1        5       B   \n",
       "9998      8004         3         125.0            3        5       B   \n",
       "9999      8429         3           NaN            3        9       B   \n",
       "\n",
       "              Price  \n",
       "0     305018.875000  \n",
       "1     177734.546875  \n",
       "2     282078.718750  \n",
       "3     168106.000000  \n",
       "4     343995.093750  \n",
       "...             ...  \n",
       "9995  119367.453125  \n",
       "9996  199715.156250  \n",
       "9997  165953.906250  \n",
       "9998  171842.406250  \n",
       "9999  177685.625000  \n",
       "\n",
       "[10000 rows x 20 columns]"
      ]
     },
     "execution_count": 860,
     "metadata": {},
     "output_type": "execute_result"
    }
   ],
   "source": [
    "# Используем функцию reduce_mem_usage, чтобы уменьшить размер памяти, занимаемой датафреймом \n",
    "reduce_mem_usage(df_train)"
   ]
  },
  {
   "cell_type": "markdown",
   "id": "7b27057d",
   "metadata": {},
   "source": [
    "###### Square"
   ]
  },
  {
   "cell_type": "code",
   "execution_count": 861,
   "id": "dbb80e0b",
   "metadata": {},
   "outputs": [
    {
     "data": {
      "image/png": "[encoded data removed]",
      "text/plain": [
       "<Figure size 1152x432 with 2 Axes>"
      ]
     },
     "metadata": {
      "needs_background": "light"
     },
     "output_type": "display_data"
    }
   ],
   "source": [
    "fig, ax = plt.subplots(1, 2)\n",
    "fig.set_size_inches(16, 6)\n",
    "fig.subplots_adjust(wspace=0.3, hspace=0.3)\n",
    "ax[0].plot(df_train['Square'])\n",
    "ax[0].set_title('Выбросы')\n",
    "ax[0].set_xlabel('Строки по порядку')\n",
    "ax[0].set_ylabel('Значение Square')\n",
    "ax[1].hist(df_train['Square'], bins=30)\n",
    "ax[1].set_title('Распределение признака Square')\n",
    "ax[1].set_xlabel('Значение Square')\n",
    "ax[1].set_ylabel('Количество')\n",
    "plt.show()"
   ]
  },
  {
   "cell_type": "code",
   "execution_count": 862,
   "id": "d6137e3b",
   "metadata": {},
   "outputs": [
    {
     "data": {
      "text/plain": [
       "0.025     32.105184\n",
       "0.975    100.906249\n",
       "Name: Square, dtype: float64"
      ]
     },
     "execution_count": 862,
     "metadata": {},
     "output_type": "execute_result"
    }
   ],
   "source": [
    "# Квантили для корректировки выбросов\n",
    "qle_Square = df_train['Square'].quantile([0.025, 0.975])\n",
    "qle_Square"
   ]
  },
  {
   "cell_type": "code",
   "execution_count": 863,
   "id": "c24c87b8",
   "metadata": {},
   "outputs": [],
   "source": [
    "# Делаем замены значений Square меньших квантиля 0,025 и больших квантиля 0,975 на значение медианы\n",
    "df_train.loc[(df_train['Square'] < qle_Square[0.025]) \n",
    "             | (df_train['Square'] > qle_Square[0.975]), 'Square'] = df_train['Square'].median()"
   ]
  },
  {
   "cell_type": "markdown",
   "id": "c8a1001c",
   "metadata": {},
   "source": [
    "###### Rooms"
   ]
  },
  {
   "cell_type": "code",
   "execution_count": 864,
   "id": "31b64996",
   "metadata": {},
   "outputs": [
    {
     "data": {
      "image/png": "[encoded data removed]",
      "text/plain": [
       "<Figure size 432x288 with 1 Axes>"
      ]
     },
     "metadata": {
      "needs_background": "light"
     },
     "output_type": "display_data"
    }
   ],
   "source": [
    "plt.scatter(df_train['Rooms'], df_train['Square'])\n",
    "plt.xlabel('Значения Rooms')\n",
    "plt.ylabel('Значения Square')\n",
    "\n",
    "plt.title('Зависимость признаков Rooms и Square')\n",
    "plt.show()"
   ]
  },
  {
   "cell_type": "code",
   "execution_count": 865,
   "id": "123d47b7",
   "metadata": {},
   "outputs": [],
   "source": [
    "# Заменяем значение признака на 1, если признак равен 0\n",
    "df_train.loc[df_train['Rooms']==0, 'Rooms'] = 1"
   ]
  },
  {
   "cell_type": "code",
   "execution_count": 866,
   "id": "44252b25",
   "metadata": {},
   "outputs": [],
   "source": [
    "# Значения комнат больше 5, заменяем на 5\n",
    "df_train.loc[df_train['Rooms'] > 5, 'Rooms'] = 5"
   ]
  },
  {
   "cell_type": "markdown",
   "id": "41b8e56d",
   "metadata": {},
   "source": [
    "###### KitchenSquare"
   ]
  },
  {
   "cell_type": "code",
   "execution_count": 867,
   "id": "2aadd21f",
   "metadata": {},
   "outputs": [
    {
     "data": {
      "text/plain": [
       "0.025     0.0\n",
       "0.975    13.0\n",
       "Name: KitchenSquare, dtype: float64"
      ]
     },
     "execution_count": 867,
     "metadata": {},
     "output_type": "execute_result"
    }
   ],
   "source": [
    "# Квантили\n",
    "qle_KSquare = df_train['KitchenSquare'].quantile([0.025, 0.975])\n",
    "qle_KSquare"
   ]
  },
  {
   "cell_type": "code",
   "execution_count": 868,
   "id": "f5db8cf4",
   "metadata": {},
   "outputs": [],
   "source": [
    "# Делаем замены значений KitchenSquare меньших 6 и больших квантиля 0,975 на значение медианы\n",
    "df_train.loc[(df_train['KitchenSquare'] < 6) \n",
    "             | (df_train['KitchenSquare'] > qle_KSquare[0.975]), 'KitchenSquare'] = df_train['KitchenSquare'].median()"
   ]
  },
  {
   "cell_type": "markdown",
   "id": "e7326f0a",
   "metadata": {},
   "source": [
    "###### LifeSquare"
   ]
  },
  {
   "cell_type": "code",
   "execution_count": 869,
   "id": "5b3a7762",
   "metadata": {},
   "outputs": [
    {
     "data": {
      "text/plain": [
       "2113"
      ]
     },
     "execution_count": 869,
     "metadata": {},
     "output_type": "execute_result"
    }
   ],
   "source": [
    "# Признак содержит пустые значения\n",
    "df_train.loc[df_train['LifeSquare'].isna()].shape[0]"
   ]
  },
  {
   "cell_type": "code",
   "execution_count": 870,
   "id": "b2ae2a21",
   "metadata": {},
   "outputs": [
    {
     "data": {
      "text/plain": [
       "0.025     5.91413\n",
       "0.975    80.74810\n",
       "Name: LifeSquare, dtype: float32"
      ]
     },
     "execution_count": 870,
     "metadata": {},
     "output_type": "execute_result"
    }
   ],
   "source": [
    "# Квантили\n",
    "qle_LSquare = df_train['LifeSquare'].quantile([0.025, 0.975])\n",
    "qle_LSquare"
   ]
  },
  {
   "cell_type": "code",
   "execution_count": 871,
   "id": "5f5487ea",
   "metadata": {},
   "outputs": [],
   "source": [
    "# Высчитаем добавочное значение для рассчёта жилой площади\n",
    "df_meds = df_train.loc[df_train['LifeSquare'].between(6, qle_LSquare[0.975])\n",
    "                       & ~df_train['LifeSquare'].isna(), ['Square', 'LifeSquare', 'KitchenSquare']]"
   ]
  },
  {
   "cell_type": "code",
   "execution_count": 872,
   "id": "bb28d544",
   "metadata": {},
   "outputs": [],
   "source": [
    "df_meds['Delta'] = df_meds['Square']-df_meds['LifeSquare']-df_meds['KitchenSquare']"
   ]
  },
  {
   "cell_type": "code",
   "execution_count": 873,
   "id": "f6dfec36",
   "metadata": {},
   "outputs": [
    {
     "data": {
      "text/plain": [
       "11.33364486694336"
      ]
     },
     "execution_count": 873,
     "metadata": {},
     "output_type": "execute_result"
    }
   ],
   "source": [
    "delta_median = df_meds['Delta'].median()\n",
    "delta_median"
   ]
  },
  {
   "cell_type": "code",
   "execution_count": 874,
   "id": "8bb71a10",
   "metadata": {},
   "outputs": [],
   "source": [
    "# Заменим пустые значения жилой площади на разницу между общей площадью и пощадью кухни, \n",
    "#учитывая также добавочное значение delta_median \n",
    "df_train.loc[df_train['LifeSquare'].isna(), 'LifeSquare'] = df_train['Square']-df_train['KitchenSquare']-delta_median"
   ]
  },
  {
   "cell_type": "code",
   "execution_count": 875,
   "id": "b0fe6a66",
   "metadata": {},
   "outputs": [],
   "source": [
    "# Аналогичным образом поступим с выбросами\n",
    "df_train.loc[(df_train['LifeSquare'] < 6)\n",
    "             | (df_train['LifeSquare'] > qle_LSquare[0.975]), 'LifeSquare'] = df_train['Square']-df_train['KitchenSquare']-delta_median"
   ]
  },
  {
   "cell_type": "code",
   "execution_count": 876,
   "id": "c6859fdc",
   "metadata": {},
   "outputs": [],
   "source": [
    "df_train.loc[df_train['LifeSquare'] >= df_train['Square'], 'LifeSquare'] = df_train['Square']-df_train['KitchenSquare']-delta_median"
   ]
  },
  {
   "cell_type": "code",
   "execution_count": 877,
   "id": "2d34c398",
   "metadata": {},
   "outputs": [],
   "source": [
    "# Пересчитаем таким же образом жилую площадь, в случае если сумма площадти кухни и жилой площади больше общей площади\n",
    "df_train.loc[(df_train['LifeSquare'] + df_train['KitchenSquare'])  \n",
    "             > df_train['Square'], 'LifeSquare'] = df_train['Square']-df_train['KitchenSquare']-delta_median"
   ]
  },
  {
   "cell_type": "markdown",
   "id": "1c48cf2b",
   "metadata": {},
   "source": [
    "###### Districtid"
   ]
  },
  {
   "cell_type": "code",
   "execution_count": 878,
   "id": "d2e9c0f6",
   "metadata": {},
   "outputs": [
    {
     "data": {
      "text/plain": [
       "205"
      ]
     },
     "execution_count": 878,
     "metadata": {},
     "output_type": "execute_result"
    }
   ],
   "source": [
    "# Список районов\n",
    "districts = df_train['DistrictId'].value_counts().index.tolist()\n",
    "# Количество районов\n",
    "len(districts)"
   ]
  },
  {
   "cell_type": "code",
   "execution_count": 879,
   "id": "3b878df2",
   "metadata": {},
   "outputs": [
    {
     "data": {
      "text/plain": [
       "27    851\n",
       "1     652\n",
       "23    565\n",
       "6     511\n",
       "9     294\n",
       "62    247\n",
       "30    228\n",
       "58    179\n",
       "53    174\n",
       "21    165\n",
       "Name: DistrictId, dtype: int64"
      ]
     },
     "execution_count": 879,
     "metadata": {},
     "output_type": "execute_result"
    }
   ],
   "source": [
    "df_train['DistrictId'].value_counts().head(10)"
   ]
  },
  {
   "cell_type": "markdown",
   "id": "d9167959",
   "metadata": {},
   "source": [
    "###### Floor, HouseFloor"
   ]
  },
  {
   "cell_type": "code",
   "execution_count": 880,
   "id": "48245296",
   "metadata": {},
   "outputs": [],
   "source": [
    "# Если этаж равен 0, то заменяем его на 1\n",
    "df_train.loc[df_train['Floor'] == 0, 'Floor'] = df_train['Floor'].median()"
   ]
  },
  {
   "cell_type": "code",
   "execution_count": 881,
   "id": "0e76a704",
   "metadata": {},
   "outputs": [
    {
     "data": {
      "text/plain": [
       "0.025     0.0\n",
       "0.975    25.0\n",
       "Name: HouseFloor, dtype: float64"
      ]
     },
     "execution_count": 881,
     "metadata": {},
     "output_type": "execute_result"
    }
   ],
   "source": [
    "# Квантили HouseFloor\n",
    "qle_HFloor = df_train['HouseFloor'].quantile([0.025, 0.975])\n",
    "qle_HFloor"
   ]
  },
  {
   "cell_type": "code",
   "execution_count": 882,
   "id": "679235f4",
   "metadata": {},
   "outputs": [],
   "source": [
    "df_train.loc[(df_train['HouseFloor'] == 0)\n",
    "             | (df_train['HouseFloor'] > qle_HFloor[0.975]), 'HouseFloor'] = df_train['HouseFloor'].median()"
   ]
  },
  {
   "cell_type": "code",
   "execution_count": 883,
   "id": "6cf31c48",
   "metadata": {},
   "outputs": [],
   "source": [
    "# Если номер этажа больше количества этажей в доме, то присваеваем этот номер признаку HouseFloor\n",
    "df_train.loc[df_train['HouseFloor'] < df_train['Floor'], 'HouseFloor'] = df_train['Floor']"
   ]
  },
  {
   "cell_type": "markdown",
   "id": "8b089241",
   "metadata": {},
   "source": [
    "###### HouseYear"
   ]
  },
  {
   "cell_type": "code",
   "execution_count": 884,
   "id": "4b429477",
   "metadata": {},
   "outputs": [],
   "source": [
    "# Обработаем некорректные данные\n",
    "df_train.loc[(df_train['HouseYear'] < 1900) | (df_train['HouseYear'] > 2021), 'HouseYear'] = df_train['HouseYear'].median()"
   ]
  },
  {
   "cell_type": "code",
   "execution_count": 885,
   "id": "495ccb6e",
   "metadata": {},
   "outputs": [],
   "source": [
    "# Построим график востребованности квартир определённого периода постройки\n",
    "df_train['InterYear'] = df_train['HouseYear'] // 10 * 10"
   ]
  },
  {
   "cell_type": "code",
   "execution_count": 886,
   "id": "f8409600",
   "metadata": {},
   "outputs": [],
   "source": [
    "S_Years = df_train['InterYear'].value_counts().sort_index()\n",
    "S_Years = pd.Series(S_Years.values, index = S_Years.index.astype(str))"
   ]
  },
  {
   "cell_type": "code",
   "execution_count": 887,
   "id": "724cfdb4",
   "metadata": {},
   "outputs": [
    {
     "data": {
      "image/png": "[encoded data removed]",
      "text/plain": [
       "<Figure size 1152x360 with 1 Axes>"
      ]
     },
     "metadata": {
      "needs_background": "light"
     },
     "output_type": "display_data"
    }
   ],
   "source": [
    "plt.figure(figsize = (16, 5))\n",
    "plt.xlabel('Год постройки дома')\n",
    "plt.ylabel('Количество')\n",
    "plt.title('Распределение HouseYear')\n",
    "S_Years.plot(kind='bar')\n",
    "plt.show()"
   ]
  },
  {
   "cell_type": "markdown",
   "id": "ef184686",
   "metadata": {},
   "source": [
    "###### Ecology_1, Ecology_2, Ecology_3"
   ]
  },
  {
   "cell_type": "code",
   "execution_count": 888,
   "id": "cd1c508f",
   "metadata": {},
   "outputs": [
    {
     "data": {
      "text/plain": [
       "0    0.075424\n",
       "1    0.118537\n",
       "2    0.025609\n",
       "3    0.007122\n",
       "4    0.282798\n",
       "Name: Ecology_1, dtype: float32"
      ]
     },
     "execution_count": 888,
     "metadata": {},
     "output_type": "execute_result"
    }
   ],
   "source": [
    "df_train['Ecology_1'].head()"
   ]
  },
  {
   "cell_type": "code",
   "execution_count": 889,
   "id": "df08239c",
   "metadata": {},
   "outputs": [
    {
     "data": {
      "text/plain": [
       "0.025    0.000000\n",
       "0.975    0.437885\n",
       "Name: Ecology_1, dtype: float64"
      ]
     },
     "execution_count": 889,
     "metadata": {},
     "output_type": "execute_result"
    }
   ],
   "source": [
    "# Квантили\n",
    "qle_Eco1 = df_train['Ecology_1'].quantile([0.025, 0.975])\n",
    "qle_Eco1"
   ]
  },
  {
   "cell_type": "code",
   "execution_count": 890,
   "id": "f1f0131e",
   "metadata": {},
   "outputs": [
    {
     "data": {
      "text/plain": [
       "1612    0.0\n",
       "8449    0.0\n",
       "9204    0.0\n",
       "810     0.0\n",
       "7719    0.0\n",
       "Name: Ecology_1, dtype: float32"
      ]
     },
     "execution_count": 890,
     "metadata": {},
     "output_type": "execute_result"
    }
   ],
   "source": [
    "df_train['Ecology_1'].sort_values().head()"
   ]
  },
  {
   "cell_type": "code",
   "execution_count": 891,
   "id": "b31ef13a",
   "metadata": {},
   "outputs": [],
   "source": [
    "df_train.loc[df_train['Ecology_1'] > qle_Eco1[0.975], 'Ecology_1'] = df_train['Ecology_1'].median()"
   ]
  },
  {
   "cell_type": "code",
   "execution_count": 892,
   "id": "2e85bf6d",
   "metadata": {},
   "outputs": [
    {
     "data": {
      "text/plain": [
       "B    9903\n",
       "A      97\n",
       "Name: Ecology_2, dtype: int64"
      ]
     },
     "execution_count": 892,
     "metadata": {},
     "output_type": "execute_result"
    }
   ],
   "source": [
    "df_train['Ecology_2'].value_counts()"
   ]
  },
  {
   "cell_type": "code",
   "execution_count": 893,
   "id": "a0205d37",
   "metadata": {},
   "outputs": [
    {
     "data": {
      "text/plain": [
       "B    9725\n",
       "A     275\n",
       "Name: Ecology_3, dtype: int64"
      ]
     },
     "execution_count": 893,
     "metadata": {},
     "output_type": "execute_result"
    }
   ],
   "source": [
    "df_train['Ecology_3'].value_counts()"
   ]
  },
  {
   "cell_type": "code",
   "execution_count": 894,
   "id": "c12ce3a1",
   "metadata": {},
   "outputs": [],
   "source": [
    "# Заменим категории 'A' и 'B' на 0 и 1\n",
    "df_train.replace({'Ecology_3': {'A': 0, 'B': 1}}, inplace=True)"
   ]
  },
  {
   "cell_type": "markdown",
   "id": "ef7fc5b9",
   "metadata": {},
   "source": [
    "###### Social_1, Social_2, Social_3"
   ]
  },
  {
   "cell_type": "code",
   "execution_count": 895,
   "id": "3d2edf98",
   "metadata": {},
   "outputs": [
    {
     "data": {
      "text/plain": [
       "0.025     1.0\n",
       "0.975    66.0\n",
       "Name: Social_1, dtype: float64"
      ]
     },
     "execution_count": 895,
     "metadata": {},
     "output_type": "execute_result"
    }
   ],
   "source": [
    "# Квантили\n",
    "qle_Soc1 = df_train['Social_1'].quantile([0.025, 0.975])\n",
    "qle_Soc1"
   ]
  },
  {
   "cell_type": "code",
   "execution_count": 896,
   "id": "50014278",
   "metadata": {},
   "outputs": [],
   "source": [
    "df_train.loc[(df_train['Social_1'] < qle_Soc1[0.025]) \n",
    "             | (df_train['Social_1'] > qle_Soc1[0.975]), 'Social_1'] = df_train['Social_1'].median()"
   ]
  },
  {
   "cell_type": "code",
   "execution_count": 897,
   "id": "9f8dc900",
   "metadata": {},
   "outputs": [
    {
     "data": {
      "text/plain": [
       "0.025      264.0\n",
       "0.975    14892.0\n",
       "Name: Social_2, dtype: float64"
      ]
     },
     "execution_count": 897,
     "metadata": {},
     "output_type": "execute_result"
    }
   ],
   "source": [
    "# Квантили\n",
    "qle_Soc2 = df_train['Social_2'].quantile([0.025, 0.975])\n",
    "qle_Soc2"
   ]
  },
  {
   "cell_type": "code",
   "execution_count": 898,
   "id": "533f2fef",
   "metadata": {},
   "outputs": [],
   "source": [
    "df_train.loc[(df_train['Social_2'] < qle_Soc2[0.025]) \n",
    "             | (df_train['Social_2'] > qle_Soc2[0.975]), 'Social_2'] = df_train['Social_2'].median()"
   ]
  },
  {
   "cell_type": "code",
   "execution_count": 899,
   "id": "bf2aa0f3",
   "metadata": {},
   "outputs": [
    {
     "data": {
      "text/plain": [
       "0.025     0.0\n",
       "0.975    93.0\n",
       "Name: Social_3, dtype: float64"
      ]
     },
     "execution_count": 899,
     "metadata": {},
     "output_type": "execute_result"
    }
   ],
   "source": [
    "# Квантили\n",
    "qle_Soc3 = df_train['Social_3'].quantile([0.025, 0.975])\n",
    "qle_Soc3"
   ]
  },
  {
   "cell_type": "code",
   "execution_count": 900,
   "id": "0c023d1f",
   "metadata": {},
   "outputs": [],
   "source": [
    "df_train.loc[(df_train['Social_3'] < qle_Soc3[0.025]) \n",
    "             | (df_train['Social_3'] > qle_Soc3[0.975]), 'Social_3'] = df_train['Social_3'].median()"
   ]
  },
  {
   "cell_type": "markdown",
   "id": "9a853bcd",
   "metadata": {},
   "source": [
    "###### Healthcare_1, Helthcare_2"
   ]
  },
  {
   "cell_type": "code",
   "execution_count": 901,
   "id": "31d5f9ba",
   "metadata": {},
   "outputs": [
    {
     "data": {
      "text/plain": [
       "4798"
      ]
     },
     "execution_count": 901,
     "metadata": {},
     "output_type": "execute_result"
    }
   ],
   "source": [
    "# Слишком много пропусков, позже удалим признак\n",
    "df_train.loc[df_train['Healthcare_1'].isna()].shape[0]"
   ]
  },
  {
   "cell_type": "code",
   "execution_count": 902,
   "id": "5a7c0d5f",
   "metadata": {},
   "outputs": [
    {
     "data": {
      "text/plain": [
       "0.025    0.0\n",
       "0.975    5.0\n",
       "Name: Helthcare_2, dtype: float64"
      ]
     },
     "execution_count": 902,
     "metadata": {},
     "output_type": "execute_result"
    }
   ],
   "source": [
    "# Квантили\n",
    "qle_Hel2 = df_train['Helthcare_2'].quantile([0.025, 0.975])\n",
    "qle_Hel2"
   ]
  },
  {
   "cell_type": "code",
   "execution_count": 903,
   "id": "7485f770",
   "metadata": {},
   "outputs": [],
   "source": [
    "df_train.loc[(df_train['Helthcare_2'] < qle_Hel2[0.025]) \n",
    "             | (df_train['Helthcare_2'] > qle_Hel2[0.975]), 'Helthcare_2'] = df_train['Helthcare_2'].median()"
   ]
  },
  {
   "cell_type": "markdown",
   "id": "8362883e",
   "metadata": {},
   "source": [
    "###### Shops_1, Shops_1"
   ]
  },
  {
   "cell_type": "code",
   "execution_count": 904,
   "id": "443be4d5",
   "metadata": {},
   "outputs": [
    {
     "data": {
      "text/plain": [
       "0.025     0.0\n",
       "0.975    19.0\n",
       "Name: Shops_1, dtype: float64"
      ]
     },
     "execution_count": 904,
     "metadata": {},
     "output_type": "execute_result"
    }
   ],
   "source": [
    "# Квантили\n",
    "qle_Shops_1 = df_train['Shops_1'].quantile([0.025, 0.975])\n",
    "qle_Shops_1"
   ]
  },
  {
   "cell_type": "code",
   "execution_count": 905,
   "id": "6c49b52f",
   "metadata": {},
   "outputs": [],
   "source": [
    "df_train.loc[(df_train['Shops_1'] < qle_Shops_1[0.025]) \n",
    "             | (df_train['Shops_1'] > qle_Shops_1[0.975]), 'Shops_1'] = df_train['Shops_1'].median()"
   ]
  },
  {
   "cell_type": "code",
   "execution_count": 906,
   "id": "551adede",
   "metadata": {},
   "outputs": [
    {
     "data": {
      "text/plain": [
       "B    9175\n",
       "A     825\n",
       "Name: Shops_2, dtype: int64"
      ]
     },
     "execution_count": 906,
     "metadata": {},
     "output_type": "execute_result"
    }
   ],
   "source": [
    "df_train['Shops_2'].value_counts()"
   ]
  },
  {
   "cell_type": "code",
   "execution_count": 907,
   "id": "d2703066",
   "metadata": {},
   "outputs": [],
   "source": [
    "# Заменим категории 'A' и 'B' на 0 и 1\n",
    "df_train.replace({'Shops_2': {'A': 0, 'B': 1}}, inplace=True)"
   ]
  },
  {
   "cell_type": "markdown",
   "id": "b9e9d925",
   "metadata": {},
   "source": [
    "### Добавление признаков"
   ]
  },
  {
   "cell_type": "code",
   "execution_count": 908,
   "id": "55d1cd7e",
   "metadata": {},
   "outputs": [
    {
     "data": {
      "text/plain": [
       "186649.3750    6415\n",
       "203908.1875    3293\n",
       "310512.3750     292\n",
       "Name: MedPrice, dtype: int64"
      ]
     },
     "execution_count": 908,
     "metadata": {},
     "output_type": "execute_result"
    }
   ],
   "source": [
    "# Признак HouseAgePrice\n",
    "house_age = pd.DataFrame({'HouseYear': df_train['HouseYear'], 'MedPrice': 0})\n",
    "house_age.loc[df_train['HouseYear'] < 1960, 'MedPrice'] = df_train.loc[df_train['HouseYear'] < 1960, 'Price'].median()\n",
    "house_age.loc[df_train['HouseYear'].between(1960, 1989, inclusive=\"both\"), 'MedPrice'] = df_train.loc[df_train['HouseYear'].between(1960, 1989, inclusive=\"both\"), 'Price'].median()\n",
    "house_age.loc[df_train['HouseYear'] > 1989, 'MedPrice'] = df_train.loc[df_train['HouseYear'] > 1989, 'Price'].median()\n",
    "house_age['MedPrice'].value_counts()"
   ]
  },
  {
   "cell_type": "code",
   "execution_count": 909,
   "id": "7d2a70a2",
   "metadata": {},
   "outputs": [],
   "source": [
    "# Перенесем признак на тренировочный датасет\n",
    "df_train = df_train.merge(house_age, on=['HouseYear'], how='left')"
   ]
  },
  {
   "cell_type": "code",
   "execution_count": 910,
   "id": "15976846",
   "metadata": {},
   "outputs": [],
   "source": [
    "# Признак MedPriceByDistrict\n",
    "med_price_dist = df_train.groupby(['DistrictId'], as_index=False).agg({'Price':'median'})\\\n",
    "                       .rename(columns={'Price':'MedPriceByDistrict'})\n",
    "df_train = df_train.merge(med_price_dist, on=['DistrictId'], how='left')"
   ]
  },
  {
   "cell_type": "code",
   "execution_count": 911,
   "id": "aeed182e",
   "metadata": {},
   "outputs": [],
   "source": [
    "med_soc_eco = df_train.groupby(['Social_1', 'Ecology_1'], as_index=False).agg({'Price':'median'})\\\n",
    "                       .rename(columns={'Price':'MedSocialEcoPrice'})\n",
    "df_train = df_train.merge(med_soc_eco, on=['Social_1', 'Ecology_1'], how='left')"
   ]
  },
  {
   "cell_type": "markdown",
   "id": "203d6521",
   "metadata": {},
   "source": [
    "### Матрица корреляций"
   ]
  },
  {
   "cell_type": "code",
   "execution_count": 912,
   "id": "9a2e2f89",
   "metadata": {},
   "outputs": [
    {
     "data": {
      "text/html": [
       "<style  type=\"text/css\" >\n",
       "#T_e608e_row0_col0,#T_e608e_row1_col1,#T_e608e_row2_col2,#T_e608e_row3_col3,#T_e608e_row4_col4,#T_e608e_row5_col5,#T_e608e_row6_col6,#T_e608e_row7_col7,#T_e608e_row8_col8,#T_e608e_row9_col9,#T_e608e_row10_col10,#T_e608e_row11_col11,#T_e608e_row12_col12,#T_e608e_row13_col13,#T_e608e_row14_col14,#T_e608e_row15_col15,#T_e608e_row16_col16,#T_e608e_row17_col17,#T_e608e_row18_col18,#T_e608e_row19_col19,#T_e608e_row20_col20,#T_e608e_row21_col21,#T_e608e_row22_col22{\n",
       "            background-color:  #b40426;\n",
       "            color:  #f1f1f1;\n",
       "        }#T_e608e_row0_col1,#T_e608e_row5_col18,#T_e608e_row9_col16,#T_e608e_row13_col17{\n",
       "            background-color:  #7a9df8;\n",
       "            color:  #000000;\n",
       "        }#T_e608e_row0_col2,#T_e608e_row0_col19,#T_e608e_row3_col14,#T_e608e_row6_col13,#T_e608e_row7_col2,#T_e608e_row9_col0,#T_e608e_row9_col21,#T_e608e_row13_col8,#T_e608e_row15_col0{\n",
       "            background-color:  #455cce;\n",
       "            color:  #f1f1f1;\n",
       "        }#T_e608e_row0_col3,#T_e608e_row0_col8,#T_e608e_row2_col8,#T_e608e_row11_col6,#T_e608e_row11_col10,#T_e608e_row17_col20{\n",
       "            background-color:  #4c66d6;\n",
       "            color:  #000000;\n",
       "        }#T_e608e_row0_col4,#T_e608e_row4_col11,#T_e608e_row5_col9,#T_e608e_row17_col14,#T_e608e_row19_col4,#T_e608e_row19_col14{\n",
       "            background-color:  #536edd;\n",
       "            color:  #000000;\n",
       "        }#T_e608e_row0_col5,#T_e608e_row6_col9,#T_e608e_row12_col19,#T_e608e_row17_col18{\n",
       "            background-color:  #5b7ae5;\n",
       "            color:  #000000;\n",
       "        }#T_e608e_row0_col6,#T_e608e_row7_col21,#T_e608e_row12_col8,#T_e608e_row15_col2,#T_e608e_row17_col13,#T_e608e_row19_col3,#T_e608e_row19_col16,#T_e608e_row20_col13{\n",
       "            background-color:  #5d7ce6;\n",
       "            color:  #000000;\n",
       "        }#T_e608e_row0_col7,#T_e608e_row2_col7,#T_e608e_row6_col21,#T_e608e_row8_col12,#T_e608e_row20_col18,#T_e608e_row21_col5{\n",
       "            background-color:  #7597f6;\n",
       "            color:  #000000;\n",
       "        }#T_e608e_row0_col9,#T_e608e_row3_col8,#T_e608e_row3_col15,#T_e608e_row5_col13,#T_e608e_row6_col11,#T_e608e_row13_col20,#T_e608e_row16_col10,#T_e608e_row17_col10,#T_e608e_row21_col8{\n",
       "            background-color:  #5a78e4;\n",
       "            color:  #000000;\n",
       "        }#T_e608e_row0_col10,#T_e608e_row5_col6,#T_e608e_row6_col8,#T_e608e_row15_col7,#T_e608e_row15_col20,#T_e608e_row19_col10{\n",
       "            background-color:  #6282ea;\n",
       "            color:  #000000;\n",
       "        }#T_e608e_row0_col11,#T_e608e_row8_col6,#T_e608e_row16_col5{\n",
       "            background-color:  #7295f4;\n",
       "            color:  #000000;\n",
       "        }#T_e608e_row0_col12,#T_e608e_row3_col21,#T_e608e_row8_col18{\n",
       "            background-color:  #6a8bef;\n",
       "            color:  #000000;\n",
       "        }#T_e608e_row0_col13,#T_e608e_row1_col8,#T_e608e_row1_col19,#T_e608e_row4_col8,#T_e608e_row7_col20,#T_e608e_row8_col2,#T_e608e_row8_col14,#T_e608e_row9_col3,#T_e608e_row10_col5,#T_e608e_row17_col8,#T_e608e_row18_col10,#T_e608e_row19_col13{\n",
       "            background-color:  #4a63d3;\n",
       "            color:  #f1f1f1;\n",
       "        }#T_e608e_row0_col14,#T_e608e_row3_col5,#T_e608e_row4_col1,#T_e608e_row7_col5,#T_e608e_row8_col3,#T_e608e_row10_col17,#T_e608e_row14_col17,#T_e608e_row20_col6{\n",
       "            background-color:  #5f7fe8;\n",
       "            color:  #000000;\n",
       "        }#T_e608e_row0_col15,#T_e608e_row0_col17,#T_e608e_row2_col14,#T_e608e_row7_col10,#T_e608e_row8_col17,#T_e608e_row16_col7{\n",
       "            background-color:  #6788ee;\n",
       "            color:  #000000;\n",
       "        }#T_e608e_row0_col16,#T_e608e_row2_col20,#T_e608e_row3_col19,#T_e608e_row3_col20,#T_e608e_row13_col2,#T_e608e_row15_col8{\n",
       "            background-color:  #4f69d9;\n",
       "            color:  #000000;\n",
       "        }#T_e608e_row0_col18,#T_e608e_row0_col21,#T_e608e_row3_col17,#T_e608e_row4_col17,#T_e608e_row12_col6,#T_e608e_row13_col10,#T_e608e_row19_col9,#T_e608e_row20_col2{\n",
       "            background-color:  #516ddb;\n",
       "            color:  #000000;\n",
       "        }#T_e608e_row0_col20,#T_e608e_row3_col16,#T_e608e_row10_col9,#T_e608e_row11_col7,#T_e608e_row15_col3,#T_e608e_row21_col10{\n",
       "            background-color:  #4961d2;\n",
       "            color:  #f1f1f1;\n",
       "        }#T_e608e_row0_col22,#T_e608e_row1_col2,#T_e608e_row1_col10,#T_e608e_row5_col3,#T_e608e_row6_col12,#T_e608e_row10_col6,#T_e608e_row11_col8,#T_e608e_row14_col7,#T_e608e_row21_col19,#T_e608e_row22_col8{\n",
       "            background-color:  #5875e1;\n",
       "            color:  #000000;\n",
       "        }#T_e608e_row1_col0,#T_e608e_row9_col14,#T_e608e_row11_col3,#T_e608e_row11_col4{\n",
       "            background-color:  #4055c8;\n",
       "            color:  #f1f1f1;\n",
       "        }#T_e608e_row1_col3,#T_e608e_row3_col13,#T_e608e_row4_col19{\n",
       "            background-color:  #3d50c3;\n",
       "            color:  #f1f1f1;\n",
       "        }#T_e608e_row1_col4,#T_e608e_row4_col20,#T_e608e_row6_col0,#T_e608e_row9_col19,#T_e608e_row9_col22,#T_e608e_row10_col0,#T_e608e_row13_col0,#T_e608e_row17_col0,#T_e608e_row18_col0{\n",
       "            background-color:  #3f53c6;\n",
       "            color:  #f1f1f1;\n",
       "        }#T_e608e_row1_col5,#T_e608e_row2_col21,#T_e608e_row5_col7,#T_e608e_row19_col1,#T_e608e_row20_col12{\n",
       "            background-color:  #80a3fa;\n",
       "            color:  #000000;\n",
       "        }#T_e608e_row1_col6,#T_e608e_row1_col7,#T_e608e_row1_col17,#T_e608e_row3_col0,#T_e608e_row4_col0,#T_e608e_row4_col5,#T_e608e_row4_col13,#T_e608e_row5_col4,#T_e608e_row7_col1,#T_e608e_row7_col11,#T_e608e_row7_col12,#T_e608e_row7_col13,#T_e608e_row7_col14,#T_e608e_row7_col16,#T_e608e_row9_col2,#T_e608e_row10_col13,#T_e608e_row10_col15,#T_e608e_row10_col18,#T_e608e_row10_col20,#T_e608e_row10_col21,#T_e608e_row10_col22,#T_e608e_row14_col3,#T_e608e_row14_col4,#T_e608e_row14_col8,#T_e608e_row14_col9,#T_e608e_row14_col19,#T_e608e_row15_col10,#T_e608e_row17_col2,#T_e608e_row17_col3{\n",
       "            background-color:  #3b4cc0;\n",
       "            color:  #f1f1f1;\n",
       "        }#T_e608e_row1_col9,#T_e608e_row5_col14,#T_e608e_row11_col5,#T_e608e_row18_col5,#T_e608e_row21_col7{\n",
       "            background-color:  #81a4fb;\n",
       "            color:  #000000;\n",
       "        }#T_e608e_row1_col11,#T_e608e_row15_col16{\n",
       "            background-color:  #e6d7cf;\n",
       "            color:  #000000;\n",
       "        }#T_e608e_row1_col12{\n",
       "            background-color:  #dadce0;\n",
       "            color:  #000000;\n",
       "        }#T_e608e_row1_col13,#T_e608e_row14_col13{\n",
       "            background-color:  #c5d6f2;\n",
       "            color:  #000000;\n",
       "        }#T_e608e_row1_col14,#T_e608e_row11_col21{\n",
       "            background-color:  #cedaeb;\n",
       "            color:  #000000;\n",
       "        }#T_e608e_row1_col15,#T_e608e_row11_col22{\n",
       "            background-color:  #c9d7f0;\n",
       "            color:  #000000;\n",
       "        }#T_e608e_row1_col16,#T_e608e_row13_col14,#T_e608e_row13_col15,#T_e608e_row21_col12{\n",
       "            background-color:  #cfdaea;\n",
       "            color:  #000000;\n",
       "        }#T_e608e_row1_col18,#T_e608e_row20_col1{\n",
       "            background-color:  #93b5fe;\n",
       "            color:  #000000;\n",
       "        }#T_e608e_row1_col20,#T_e608e_row2_col5,#T_e608e_row2_col6,#T_e608e_row5_col17,#T_e608e_row8_col21,#T_e608e_row9_col6,#T_e608e_row10_col4,#T_e608e_row12_col2,#T_e608e_row16_col2,#T_e608e_row17_col6,#T_e608e_row18_col8,#T_e608e_row20_col16,#T_e608e_row21_col20,#T_e608e_row22_col20{\n",
       "            background-color:  #6384eb;\n",
       "            color:  #000000;\n",
       "        }#T_e608e_row1_col21,#T_e608e_row8_col5{\n",
       "            background-color:  #a3c2fe;\n",
       "            color:  #000000;\n",
       "        }#T_e608e_row1_col22,#T_e608e_row9_col12,#T_e608e_row12_col14{\n",
       "            background-color:  #9abbff;\n",
       "            color:  #000000;\n",
       "        }#T_e608e_row2_col0,#T_e608e_row6_col14,#T_e608e_row7_col0,#T_e608e_row14_col6{\n",
       "            background-color:  #3c4ec2;\n",
       "            color:  #f1f1f1;\n",
       "        }#T_e608e_row2_col1,#T_e608e_row2_col11,#T_e608e_row3_col7,#T_e608e_row4_col7{\n",
       "            background-color:  #85a8fc;\n",
       "            color:  #000000;\n",
       "        }#T_e608e_row2_col3{\n",
       "            background-color:  #f18d6f;\n",
       "            color:  #000000;\n",
       "        }#T_e608e_row2_col4{\n",
       "            background-color:  #f29072;\n",
       "            color:  #000000;\n",
       "        }#T_e608e_row2_col9,#T_e608e_row2_col19,#T_e608e_row9_col8,#T_e608e_row12_col0,#T_e608e_row12_col4,#T_e608e_row21_col9{\n",
       "            background-color:  #465ecf;\n",
       "            color:  #f1f1f1;\n",
       "        }#T_e608e_row2_col10,#T_e608e_row8_col22,#T_e608e_row15_col6,#T_e608e_row16_col6{\n",
       "            background-color:  #6180e9;\n",
       "            color:  #000000;\n",
       "        }#T_e608e_row2_col12,#T_e608e_row19_col12,#T_e608e_row20_col7,#T_e608e_row20_col15,#T_e608e_row22_col2,#T_e608e_row22_col5{\n",
       "            background-color:  #7b9ff9;\n",
       "            color:  #000000;\n",
       "        }#T_e608e_row2_col13,#T_e608e_row4_col9,#T_e608e_row4_col12,#T_e608e_row6_col2,#T_e608e_row6_col16,#T_e608e_row8_col9,#T_e608e_row12_col7,#T_e608e_row16_col4,#T_e608e_row20_col4{\n",
       "            background-color:  #506bda;\n",
       "            color:  #000000;\n",
       "        }#T_e608e_row2_col15,#T_e608e_row8_col11,#T_e608e_row21_col2{\n",
       "            background-color:  #7699f6;\n",
       "            color:  #000000;\n",
       "        }#T_e608e_row2_col16,#T_e608e_row3_col1,#T_e608e_row3_col10,#T_e608e_row5_col16,#T_e608e_row6_col15,#T_e608e_row7_col4,#T_e608e_row8_col15,#T_e608e_row9_col13,#T_e608e_row17_col22,#T_e608e_row19_col22,#T_e608e_row21_col3{\n",
       "            background-color:  #6687ed;\n",
       "            color:  #000000;\n",
       "        }#T_e608e_row2_col17,#T_e608e_row3_col11,#T_e608e_row7_col9,#T_e608e_row11_col19,#T_e608e_row20_col3{\n",
       "            background-color:  #5977e3;\n",
       "            color:  #000000;\n",
       "        }#T_e608e_row2_col18{\n",
       "            background-color:  #f0cdbb;\n",
       "            color:  #000000;\n",
       "        }#T_e608e_row2_col22,#T_e608e_row5_col12,#T_e608e_row20_col11{\n",
       "            background-color:  #86a9fc;\n",
       "            color:  #000000;\n",
       "        }#T_e608e_row3_col2{\n",
       "            background-color:  #f18f71;\n",
       "            color:  #000000;\n",
       "        }#T_e608e_row3_col4,#T_e608e_row4_col3{\n",
       "            background-color:  #bd1f2d;\n",
       "            color:  #f1f1f1;\n",
       "        }#T_e608e_row3_col6,#T_e608e_row15_col9,#T_e608e_row17_col9,#T_e608e_row18_col17,#T_e608e_row20_col22{\n",
       "            background-color:  #7093f3;\n",
       "            color:  #000000;\n",
       "        }#T_e608e_row3_col9,#T_e608e_row10_col8,#T_e608e_row15_col19,#T_e608e_row16_col3{\n",
       "            background-color:  #4e68d8;\n",
       "            color:  #000000;\n",
       "        }#T_e608e_row3_col12,#T_e608e_row6_col1,#T_e608e_row6_col19,#T_e608e_row8_col4,#T_e608e_row8_col16,#T_e608e_row9_col5,#T_e608e_row9_col10,#T_e608e_row13_col6,#T_e608e_row16_col8{\n",
       "            background-color:  #5673e0;\n",
       "            color:  #000000;\n",
       "        }#T_e608e_row3_col18{\n",
       "            background-color:  #e8d6cc;\n",
       "            color:  #000000;\n",
       "        }#T_e608e_row3_col22,#T_e608e_row4_col6,#T_e608e_row5_col21,#T_e608e_row6_col17,#T_e608e_row13_col9,#T_e608e_row19_col6,#T_e608e_row20_col21{\n",
       "            background-color:  #6f92f3;\n",
       "            color:  #000000;\n",
       "        }#T_e608e_row4_col2,#T_e608e_row16_col11{\n",
       "            background-color:  #f39577;\n",
       "            color:  #000000;\n",
       "        }#T_e608e_row4_col10,#T_e608e_row10_col1,#T_e608e_row15_col5,#T_e608e_row19_col18{\n",
       "            background-color:  #6e90f2;\n",
       "            color:  #000000;\n",
       "        }#T_e608e_row4_col14,#T_e608e_row21_col0,#T_e608e_row22_col9{\n",
       "            background-color:  #3e51c5;\n",
       "            color:  #f1f1f1;\n",
       "        }#T_e608e_row4_col15,#T_e608e_row5_col2,#T_e608e_row10_col12,#T_e608e_row12_col10,#T_e608e_row14_col2,#T_e608e_row14_col20,#T_e608e_row20_col10{\n",
       "            background-color:  #5572df;\n",
       "            color:  #000000;\n",
       "        }#T_e608e_row4_col16,#T_e608e_row8_col13,#T_e608e_row10_col14,#T_e608e_row10_col16,#T_e608e_row12_col3,#T_e608e_row14_col0,#T_e608e_row17_col19,#T_e608e_row18_col9{\n",
       "            background-color:  #445acc;\n",
       "            color:  #f1f1f1;\n",
       "        }#T_e608e_row4_col18,#T_e608e_row22_col15{\n",
       "            background-color:  #dfdbd9;\n",
       "            color:  #000000;\n",
       "        }#T_e608e_row4_col21,#T_e608e_row6_col3,#T_e608e_row8_col10,#T_e608e_row11_col2,#T_e608e_row11_col20,#T_e608e_row12_col20{\n",
       "            background-color:  #6485ec;\n",
       "            color:  #000000;\n",
       "        }#T_e608e_row4_col22,#T_e608e_row13_col5,#T_e608e_row13_col7,#T_e608e_row19_col17,#T_e608e_row19_col21,#T_e608e_row20_col14,#T_e608e_row21_col4{\n",
       "            background-color:  #688aef;\n",
       "            color:  #000000;\n",
       "        }#T_e608e_row5_col0,#T_e608e_row10_col19,#T_e608e_row13_col3,#T_e608e_row13_col19,#T_e608e_row16_col0{\n",
       "            background-color:  #4358cb;\n",
       "            color:  #f1f1f1;\n",
       "        }#T_e608e_row5_col1,#T_e608e_row18_col13{\n",
       "            background-color:  #9dbdff;\n",
       "            color:  #000000;\n",
       "        }#T_e608e_row5_col8,#T_e608e_row15_col17{\n",
       "            background-color:  #98b9ff;\n",
       "            color:  #000000;\n",
       "        }#T_e608e_row5_col10,#T_e608e_row9_col4,#T_e608e_row10_col3,#T_e608e_row10_col11,#T_e608e_row16_col19,#T_e608e_row17_col5,#T_e608e_row20_col9,#T_e608e_row22_col19{\n",
       "            background-color:  #5470de;\n",
       "            color:  #000000;\n",
       "        }#T_e608e_row5_col11,#T_e608e_row18_col7{\n",
       "            background-color:  #90b2fe;\n",
       "            color:  #000000;\n",
       "        }#T_e608e_row5_col15,#T_e608e_row5_col22,#T_e608e_row8_col1{\n",
       "            background-color:  #779af7;\n",
       "            color:  #000000;\n",
       "        }#T_e608e_row5_col19,#T_e608e_row22_col7{\n",
       "            background-color:  #96b7ff;\n",
       "            color:  #000000;\n",
       "        }#T_e608e_row5_col20{\n",
       "            background-color:  #8fb1fe;\n",
       "            color:  #000000;\n",
       "        }#T_e608e_row6_col4,#T_e608e_row7_col8,#T_e608e_row19_col15,#T_e608e_row20_col17,#T_e608e_row22_col4{\n",
       "            background-color:  #6c8ff1;\n",
       "            color:  #000000;\n",
       "        }#T_e608e_row6_col5,#T_e608e_row6_col10,#T_e608e_row7_col3,#T_e608e_row7_col19,#T_e608e_row16_col20,#T_e608e_row18_col19{\n",
       "            background-color:  #5e7de7;\n",
       "            color:  #000000;\n",
       "        }#T_e608e_row6_col7{\n",
       "            background-color:  #f6bda2;\n",
       "            color:  #000000;\n",
       "        }#T_e608e_row6_col18,#T_e608e_row6_col22{\n",
       "            background-color:  #88abfd;\n",
       "            color:  #000000;\n",
       "        }#T_e608e_row6_col20,#T_e608e_row7_col15,#T_e608e_row14_col10,#T_e608e_row15_col4,#T_e608e_row17_col1,#T_e608e_row19_col2{\n",
       "            background-color:  #4b64d5;\n",
       "            color:  #f1f1f1;\n",
       "        }#T_e608e_row7_col6{\n",
       "            background-color:  #f3c7b1;\n",
       "            color:  #000000;\n",
       "        }#T_e608e_row7_col17,#T_e608e_row10_col7,#T_e608e_row14_col5,#T_e608e_row19_col11{\n",
       "            background-color:  #7ea1fa;\n",
       "            color:  #000000;\n",
       "        }#T_e608e_row7_col18,#T_e608e_row18_col20,#T_e608e_row22_col3{\n",
       "            background-color:  #6b8df0;\n",
       "            color:  #000000;\n",
       "        }#T_e608e_row7_col22{\n",
       "            background-color:  #7396f5;\n",
       "            color:  #000000;\n",
       "        }#T_e608e_row8_col0,#T_e608e_row9_col18,#T_e608e_row17_col4,#T_e608e_row19_col0,#T_e608e_row20_col0,#T_e608e_row22_col0{\n",
       "            background-color:  #4257c9;\n",
       "            color:  #f1f1f1;\n",
       "        }#T_e608e_row8_col7{\n",
       "            background-color:  #97b8ff;\n",
       "            color:  #000000;\n",
       "        }#T_e608e_row8_col19,#T_e608e_row19_col8{\n",
       "            background-color:  #b50927;\n",
       "            color:  #f1f1f1;\n",
       "        }#T_e608e_row8_col20{\n",
       "            background-color:  #f7b79b;\n",
       "            color:  #000000;\n",
       "        }#T_e608e_row9_col1,#T_e608e_row13_col12{\n",
       "            background-color:  #a1c0ff;\n",
       "            color:  #000000;\n",
       "        }#T_e608e_row9_col7,#T_e608e_row9_col15,#T_e608e_row12_col5,#T_e608e_row14_col16,#T_e608e_row21_col6{\n",
       "            background-color:  #7da0f9;\n",
       "            color:  #000000;\n",
       "        }#T_e608e_row9_col11,#T_e608e_row11_col14,#T_e608e_row14_col12{\n",
       "            background-color:  #9fbfff;\n",
       "            color:  #000000;\n",
       "        }#T_e608e_row9_col17{\n",
       "            background-color:  #84a7fc;\n",
       "            color:  #000000;\n",
       "        }#T_e608e_row9_col20,#T_e608e_row10_col2,#T_e608e_row11_col0,#T_e608e_row13_col4,#T_e608e_row22_col10{\n",
       "            background-color:  #485fd1;\n",
       "            color:  #f1f1f1;\n",
       "        }#T_e608e_row11_col1{\n",
       "            background-color:  #ebd3c6;\n",
       "            color:  #000000;\n",
       "        }#T_e608e_row11_col9,#T_e608e_row12_col9,#T_e608e_row14_col21,#T_e608e_row17_col7,#T_e608e_row17_col16,#T_e608e_row22_col6{\n",
       "            background-color:  #8db0fe;\n",
       "            color:  #000000;\n",
       "        }#T_e608e_row11_col12,#T_e608e_row12_col11{\n",
       "            background-color:  #bb1b2c;\n",
       "            color:  #f1f1f1;\n",
       "        }#T_e608e_row11_col13,#T_e608e_row18_col6,#T_e608e_row19_col7{\n",
       "            background-color:  #92b4fe;\n",
       "            color:  #000000;\n",
       "        }#T_e608e_row11_col15{\n",
       "            background-color:  #f5c0a7;\n",
       "            color:  #000000;\n",
       "        }#T_e608e_row11_col16{\n",
       "            background-color:  #f5a081;\n",
       "            color:  #000000;\n",
       "        }#T_e608e_row11_col17{\n",
       "            background-color:  #a9c6fd;\n",
       "            color:  #000000;\n",
       "        }#T_e608e_row11_col18,#T_e608e_row14_col15{\n",
       "            background-color:  #aec9fc;\n",
       "            color:  #000000;\n",
       "        }#T_e608e_row12_col1{\n",
       "            background-color:  #e3d9d3;\n",
       "            color:  #000000;\n",
       "        }#T_e608e_row12_col13,#T_e608e_row21_col17{\n",
       "            background-color:  #8caffe;\n",
       "            color:  #000000;\n",
       "        }#T_e608e_row12_col15,#T_e608e_row15_col12{\n",
       "            background-color:  #f5c2aa;\n",
       "            color:  #000000;\n",
       "        }#T_e608e_row12_col16{\n",
       "            background-color:  #f6a283;\n",
       "            color:  #000000;\n",
       "        }#T_e608e_row12_col17,#T_e608e_row14_col11,#T_e608e_row14_col22,#T_e608e_row15_col14,#T_e608e_row17_col11{\n",
       "            background-color:  #aac7fd;\n",
       "            color:  #000000;\n",
       "        }#T_e608e_row12_col18,#T_e608e_row19_col5{\n",
       "            background-color:  #a7c5fe;\n",
       "            color:  #000000;\n",
       "        }#T_e608e_row12_col21,#T_e608e_row13_col16{\n",
       "            background-color:  #c7d7f0;\n",
       "            color:  #000000;\n",
       "        }#T_e608e_row12_col22{\n",
       "            background-color:  #c4d5f3;\n",
       "            color:  #000000;\n",
       "        }#T_e608e_row13_col1,#T_e608e_row14_col1{\n",
       "            background-color:  #dddcdc;\n",
       "            color:  #000000;\n",
       "        }#T_e608e_row13_col11{\n",
       "            background-color:  #abc8fd;\n",
       "            color:  #000000;\n",
       "        }#T_e608e_row13_col18{\n",
       "            background-color:  #a2c1ff;\n",
       "            color:  #000000;\n",
       "        }#T_e608e_row13_col21{\n",
       "            background-color:  #b3cdfb;\n",
       "            color:  #000000;\n",
       "        }#T_e608e_row13_col22{\n",
       "            background-color:  #b9d0f9;\n",
       "            color:  #000000;\n",
       "        }#T_e608e_row14_col18,#T_e608e_row17_col15,#T_e608e_row21_col14{\n",
       "            background-color:  #94b6ff;\n",
       "            color:  #000000;\n",
       "        }#T_e608e_row15_col1{\n",
       "            background-color:  #d5dbe5;\n",
       "            color:  #000000;\n",
       "        }#T_e608e_row15_col11{\n",
       "            background-color:  #f6bea4;\n",
       "            color:  #000000;\n",
       "        }#T_e608e_row15_col13{\n",
       "            background-color:  #c1d4f4;\n",
       "            color:  #000000;\n",
       "        }#T_e608e_row15_col18{\n",
       "            background-color:  #b7cff9;\n",
       "            color:  #000000;\n",
       "        }#T_e608e_row15_col21{\n",
       "            background-color:  #dbdcde;\n",
       "            color:  #000000;\n",
       "        }#T_e608e_row15_col22,#T_e608e_row21_col11{\n",
       "            background-color:  #d9dce1;\n",
       "            color:  #000000;\n",
       "        }#T_e608e_row16_col1{\n",
       "            background-color:  #e4d9d2;\n",
       "            color:  #000000;\n",
       "        }#T_e608e_row16_col9{\n",
       "            background-color:  #82a6fb;\n",
       "            color:  #000000;\n",
       "        }#T_e608e_row16_col12{\n",
       "            background-color:  #f49a7b;\n",
       "            color:  #000000;\n",
       "        }#T_e608e_row16_col13{\n",
       "            background-color:  #c6d6f1;\n",
       "            color:  #000000;\n",
       "        }#T_e608e_row16_col14{\n",
       "            background-color:  #8badfd;\n",
       "            color:  #000000;\n",
       "        }#T_e608e_row16_col15{\n",
       "            background-color:  #edd2c3;\n",
       "            color:  #000000;\n",
       "        }#T_e608e_row16_col17,#T_e608e_row17_col12{\n",
       "            background-color:  #a6c4fe;\n",
       "            color:  #000000;\n",
       "        }#T_e608e_row16_col18,#T_e608e_row18_col11,#T_e608e_row21_col1{\n",
       "            background-color:  #bfd3f6;\n",
       "            color:  #000000;\n",
       "        }#T_e608e_row16_col21{\n",
       "            background-color:  #d6dce4;\n",
       "            color:  #000000;\n",
       "        }#T_e608e_row16_col22{\n",
       "            background-color:  #dcdddd;\n",
       "            color:  #000000;\n",
       "        }#T_e608e_row17_col21,#T_e608e_row22_col17{\n",
       "            background-color:  #799cf8;\n",
       "            color:  #000000;\n",
       "        }#T_e608e_row18_col1{\n",
       "            background-color:  #b2ccfb;\n",
       "            color:  #000000;\n",
       "        }#T_e608e_row18_col2{\n",
       "            background-color:  #edd1c2;\n",
       "            color:  #000000;\n",
       "        }#T_e608e_row18_col3{\n",
       "            background-color:  #e7d7ce;\n",
       "            color:  #000000;\n",
       "        }#T_e608e_row18_col4{\n",
       "            background-color:  #e2dad5;\n",
       "            color:  #000000;\n",
       "        }#T_e608e_row18_col12{\n",
       "            background-color:  #b5cdfa;\n",
       "            color:  #000000;\n",
       "        }#T_e608e_row18_col14{\n",
       "            background-color:  #9bbcff;\n",
       "            color:  #000000;\n",
       "        }#T_e608e_row18_col15{\n",
       "            background-color:  #c3d5f4;\n",
       "            color:  #000000;\n",
       "        }#T_e608e_row18_col16{\n",
       "            background-color:  #bbd1f8;\n",
       "            color:  #000000;\n",
       "        }#T_e608e_row18_col21,#T_e608e_row18_col22,#T_e608e_row21_col18,#T_e608e_row22_col18{\n",
       "            background-color:  #f7ad90;\n",
       "            color:  #000000;\n",
       "        }#T_e608e_row19_col20{\n",
       "            background-color:  #f7b497;\n",
       "            color:  #000000;\n",
       "        }#T_e608e_row20_col5{\n",
       "            background-color:  #9ebeff;\n",
       "            color:  #000000;\n",
       "        }#T_e608e_row20_col8,#T_e608e_row20_col19{\n",
       "            background-color:  #f7b599;\n",
       "            color:  #000000;\n",
       "        }#T_e608e_row21_col13{\n",
       "            background-color:  #adc9fd;\n",
       "            color:  #000000;\n",
       "        }#T_e608e_row21_col15{\n",
       "            background-color:  #e1dad6;\n",
       "            color:  #000000;\n",
       "        }#T_e608e_row21_col16{\n",
       "            background-color:  #d2dbe8;\n",
       "            color:  #000000;\n",
       "        }#T_e608e_row21_col22,#T_e608e_row22_col21{\n",
       "            background-color:  #e67259;\n",
       "            color:  #000000;\n",
       "        }#T_e608e_row22_col1{\n",
       "            background-color:  #b6cefa;\n",
       "            color:  #000000;\n",
       "        }#T_e608e_row22_col11{\n",
       "            background-color:  #d4dbe6;\n",
       "            color:  #000000;\n",
       "        }#T_e608e_row22_col12{\n",
       "            background-color:  #ccd9ed;\n",
       "            color:  #000000;\n",
       "        }#T_e608e_row22_col13{\n",
       "            background-color:  #b1cbfc;\n",
       "            color:  #000000;\n",
       "        }#T_e608e_row22_col14{\n",
       "            background-color:  #afcafc;\n",
       "            color:  #000000;\n",
       "        }#T_e608e_row22_col16{\n",
       "            background-color:  #d8dce2;\n",
       "            color:  #000000;\n",
       "        }</style><table id=\"T_e608e_\" ><thead>    <tr>        <th class=\"blank level0\" ></th>        <th class=\"col_heading level0 col0\" >Id</th>        <th class=\"col_heading level0 col1\" >DistrictId</th>        <th class=\"col_heading level0 col2\" >Rooms</th>        <th class=\"col_heading level0 col3\" >Square</th>        <th class=\"col_heading level0 col4\" >LifeSquare</th>        <th class=\"col_heading level0 col5\" >KitchenSquare</th>        <th class=\"col_heading level0 col6\" >Floor</th>        <th class=\"col_heading level0 col7\" >HouseFloor</th>        <th class=\"col_heading level0 col8\" >HouseYear</th>        <th class=\"col_heading level0 col9\" >Ecology_1</th>        <th class=\"col_heading level0 col10\" >Ecology_3</th>        <th class=\"col_heading level0 col11\" >Social_1</th>        <th class=\"col_heading level0 col12\" >Social_2</th>        <th class=\"col_heading level0 col13\" >Social_3</th>        <th class=\"col_heading level0 col14\" >Healthcare_1</th>        <th class=\"col_heading level0 col15\" >Helthcare_2</th>        <th class=\"col_heading level0 col16\" >Shops_1</th>        <th class=\"col_heading level0 col17\" >Shops_2</th>        <th class=\"col_heading level0 col18\" >Price</th>        <th class=\"col_heading level0 col19\" >InterYear</th>        <th class=\"col_heading level0 col20\" >MedPrice</th>        <th class=\"col_heading level0 col21\" >MedPriceByDistrict</th>        <th class=\"col_heading level0 col22\" >MedSocialEcoPrice</th>    </tr></thead><tbody>\n",
       "                <tr>\n",
       "                        <th id=\"T_e608e_level0_row0\" class=\"row_heading level0 row0\" >Id</th>\n",
       "                        <td id=\"T_e608e_row0_col0\" class=\"data row0 col0\" >1.00</td>\n",
       "                        <td id=\"T_e608e_row0_col1\" class=\"data row0 col1\" >0.00</td>\n",
       "                        <td id=\"T_e608e_row0_col2\" class=\"data row0 col2\" >-0.01</td>\n",
       "                        <td id=\"T_e608e_row0_col3\" class=\"data row0 col3\" >-0.02</td>\n",
       "                        <td id=\"T_e608e_row0_col4\" class=\"data row0 col4\" >-0.02</td>\n",
       "                        <td id=\"T_e608e_row0_col5\" class=\"data row0 col5\" >0.01</td>\n",
       "                        <td id=\"T_e608e_row0_col6\" class=\"data row0 col6\" >-0.00</td>\n",
       "                        <td id=\"T_e608e_row0_col7\" class=\"data row0 col7\" >-0.02</td>\n",
       "                        <td id=\"T_e608e_row0_col8\" class=\"data row0 col8\" >0.00</td>\n",
       "                        <td id=\"T_e608e_row0_col9\" class=\"data row0 col9\" >0.02</td>\n",
       "                        <td id=\"T_e608e_row0_col10\" class=\"data row0 col10\" >-0.00</td>\n",
       "                        <td id=\"T_e608e_row0_col11\" class=\"data row0 col11\" >0.03</td>\n",
       "                        <td id=\"T_e608e_row0_col12\" class=\"data row0 col12\" >0.02</td>\n",
       "                        <td id=\"T_e608e_row0_col13\" class=\"data row0 col13\" >-0.00</td>\n",
       "                        <td id=\"T_e608e_row0_col14\" class=\"data row0 col14\" >0.01</td>\n",
       "                        <td id=\"T_e608e_row0_col15\" class=\"data row0 col15\" >0.02</td>\n",
       "                        <td id=\"T_e608e_row0_col16\" class=\"data row0 col16\" >0.01</td>\n",
       "                        <td id=\"T_e608e_row0_col17\" class=\"data row0 col17\" >-0.00</td>\n",
       "                        <td id=\"T_e608e_row0_col18\" class=\"data row0 col18\" >-0.00</td>\n",
       "                        <td id=\"T_e608e_row0_col19\" class=\"data row0 col19\" >0.00</td>\n",
       "                        <td id=\"T_e608e_row0_col20\" class=\"data row0 col20\" >0.00</td>\n",
       "                        <td id=\"T_e608e_row0_col21\" class=\"data row0 col21\" >-0.01</td>\n",
       "                        <td id=\"T_e608e_row0_col22\" class=\"data row0 col22\" >0.01</td>\n",
       "            </tr>\n",
       "            <tr>\n",
       "                        <th id=\"T_e608e_level0_row1\" class=\"row_heading level0 row1\" >DistrictId</th>\n",
       "                        <td id=\"T_e608e_row1_col0\" class=\"data row1 col0\" >0.00</td>\n",
       "                        <td id=\"T_e608e_row1_col1\" class=\"data row1 col1\" >1.00</td>\n",
       "                        <td id=\"T_e608e_row1_col2\" class=\"data row1 col2\" >0.05</td>\n",
       "                        <td id=\"T_e608e_row1_col3\" class=\"data row1 col3\" >-0.07</td>\n",
       "                        <td id=\"T_e608e_row1_col4\" class=\"data row1 col4\" >-0.09</td>\n",
       "                        <td id=\"T_e608e_row1_col5\" class=\"data row1 col5\" >0.13</td>\n",
       "                        <td id=\"T_e608e_row1_col6\" class=\"data row1 col6\" >-0.12</td>\n",
       "                        <td id=\"T_e608e_row1_col7\" class=\"data row1 col7\" >-0.24</td>\n",
       "                        <td id=\"T_e608e_row1_col8\" class=\"data row1 col8\" >-0.01</td>\n",
       "                        <td id=\"T_e608e_row1_col9\" class=\"data row1 col9\" >0.14</td>\n",
       "                        <td id=\"T_e608e_row1_col10\" class=\"data row1 col10\" >-0.04</td>\n",
       "                        <td id=\"T_e608e_row1_col11\" class=\"data row1 col11\" >0.46</td>\n",
       "                        <td id=\"T_e608e_row1_col12\" class=\"data row1 col12\" >0.41</td>\n",
       "                        <td id=\"T_e608e_row1_col13\" class=\"data row1 col13\" >0.38</td>\n",
       "                        <td id=\"T_e608e_row1_col14\" class=\"data row1 col14\" >0.38</td>\n",
       "                        <td id=\"T_e608e_row1_col15\" class=\"data row1 col15\" >0.35</td>\n",
       "                        <td id=\"T_e608e_row1_col16\" class=\"data row1 col16\" >0.42</td>\n",
       "                        <td id=\"T_e608e_row1_col17\" class=\"data row1 col17\" >-0.17</td>\n",
       "                        <td id=\"T_e608e_row1_col18\" class=\"data row1 col18\" >0.21</td>\n",
       "                        <td id=\"T_e608e_row1_col19\" class=\"data row1 col19\" >0.02</td>\n",
       "                        <td id=\"T_e608e_row1_col20\" class=\"data row1 col20\" >0.09</td>\n",
       "                        <td id=\"T_e608e_row1_col21\" class=\"data row1 col21\" >0.25</td>\n",
       "                        <td id=\"T_e608e_row1_col22\" class=\"data row1 col22\" >0.22</td>\n",
       "            </tr>\n",
       "            <tr>\n",
       "                        <th id=\"T_e608e_level0_row2\" class=\"row_heading level0 row2\" >Rooms</th>\n",
       "                        <td id=\"T_e608e_row2_col0\" class=\"data row2 col0\" >-0.01</td>\n",
       "                        <td id=\"T_e608e_row2_col1\" class=\"data row2 col1\" >0.05</td>\n",
       "                        <td id=\"T_e608e_row2_col2\" class=\"data row2 col2\" >1.00</td>\n",
       "                        <td id=\"T_e608e_row2_col3\" class=\"data row2 col3\" >0.76</td>\n",
       "                        <td id=\"T_e608e_row2_col4\" class=\"data row2 col4\" >0.75</td>\n",
       "                        <td id=\"T_e608e_row2_col5\" class=\"data row2 col5\" >0.04</td>\n",
       "                        <td id=\"T_e608e_row2_col6\" class=\"data row2 col6\" >0.02</td>\n",
       "                        <td id=\"T_e608e_row2_col7\" class=\"data row2 col7\" >-0.01</td>\n",
       "                        <td id=\"T_e608e_row2_col8\" class=\"data row2 col8\" >0.00</td>\n",
       "                        <td id=\"T_e608e_row2_col9\" class=\"data row2 col9\" >-0.05</td>\n",
       "                        <td id=\"T_e608e_row2_col10\" class=\"data row2 col10\" >-0.01</td>\n",
       "                        <td id=\"T_e608e_row2_col11\" class=\"data row2 col11\" >0.09</td>\n",
       "                        <td id=\"T_e608e_row2_col12\" class=\"data row2 col12\" >0.08</td>\n",
       "                        <td id=\"T_e608e_row2_col13\" class=\"data row2 col13\" >0.02</td>\n",
       "                        <td id=\"T_e608e_row2_col14\" class=\"data row2 col14\" >0.04</td>\n",
       "                        <td id=\"T_e608e_row2_col15\" class=\"data row2 col15\" >0.06</td>\n",
       "                        <td id=\"T_e608e_row2_col16\" class=\"data row2 col16\" >0.08</td>\n",
       "                        <td id=\"T_e608e_row2_col17\" class=\"data row2 col17\" >-0.05</td>\n",
       "                        <td id=\"T_e608e_row2_col18\" class=\"data row2 col18\" >0.55</td>\n",
       "                        <td id=\"T_e608e_row2_col19\" class=\"data row2 col19\" >0.01</td>\n",
       "                        <td id=\"T_e608e_row2_col20\" class=\"data row2 col20\" >0.03</td>\n",
       "                        <td id=\"T_e608e_row2_col21\" class=\"data row2 col21\" >0.14</td>\n",
       "                        <td id=\"T_e608e_row2_col22\" class=\"data row2 col22\" >0.16</td>\n",
       "            </tr>\n",
       "            <tr>\n",
       "                        <th id=\"T_e608e_level0_row3\" class=\"row_heading level0 row3\" >Square</th>\n",
       "                        <td id=\"T_e608e_row3_col0\" class=\"data row3 col0\" >-0.02</td>\n",
       "                        <td id=\"T_e608e_row3_col1\" class=\"data row3 col1\" >-0.07</td>\n",
       "                        <td id=\"T_e608e_row3_col2\" class=\"data row3 col2\" >0.76</td>\n",
       "                        <td id=\"T_e608e_row3_col3\" class=\"data row3 col3\" >1.00</td>\n",
       "                        <td id=\"T_e608e_row3_col4\" class=\"data row3 col4\" >0.97</td>\n",
       "                        <td id=\"T_e608e_row3_col5\" class=\"data row3 col5\" >0.02</td>\n",
       "                        <td id=\"T_e608e_row3_col6\" class=\"data row3 col6\" >0.07</td>\n",
       "                        <td id=\"T_e608e_row3_col7\" class=\"data row3 col7\" >0.04</td>\n",
       "                        <td id=\"T_e608e_row3_col8\" class=\"data row3 col8\" >0.05</td>\n",
       "                        <td id=\"T_e608e_row3_col9\" class=\"data row3 col9\" >-0.02</td>\n",
       "                        <td id=\"T_e608e_row3_col10\" class=\"data row3 col10\" >0.01</td>\n",
       "                        <td id=\"T_e608e_row3_col11\" class=\"data row3 col11\" >-0.06</td>\n",
       "                        <td id=\"T_e608e_row3_col12\" class=\"data row3 col12\" >-0.04</td>\n",
       "                        <td id=\"T_e608e_row3_col13\" class=\"data row3 col13\" >-0.05</td>\n",
       "                        <td id=\"T_e608e_row3_col14\" class=\"data row3 col14\" >-0.08</td>\n",
       "                        <td id=\"T_e608e_row3_col15\" class=\"data row3 col15\" >-0.03</td>\n",
       "                        <td id=\"T_e608e_row3_col16\" class=\"data row3 col16\" >-0.01</td>\n",
       "                        <td id=\"T_e608e_row3_col17\" class=\"data row3 col17\" >-0.08</td>\n",
       "                        <td id=\"T_e608e_row3_col18\" class=\"data row3 col18\" >0.50</td>\n",
       "                        <td id=\"T_e608e_row3_col19\" class=\"data row3 col19\" >0.04</td>\n",
       "                        <td id=\"T_e608e_row3_col20\" class=\"data row3 col20\" >0.03</td>\n",
       "                        <td id=\"T_e608e_row3_col21\" class=\"data row3 col21\" >0.07</td>\n",
       "                        <td id=\"T_e608e_row3_col22\" class=\"data row3 col22\" >0.09</td>\n",
       "            </tr>\n",
       "            <tr>\n",
       "                        <th id=\"T_e608e_level0_row4\" class=\"row_heading level0 row4\" >LifeSquare</th>\n",
       "                        <td id=\"T_e608e_row4_col0\" class=\"data row4 col0\" >-0.02</td>\n",
       "                        <td id=\"T_e608e_row4_col1\" class=\"data row4 col1\" >-0.09</td>\n",
       "                        <td id=\"T_e608e_row4_col2\" class=\"data row4 col2\" >0.75</td>\n",
       "                        <td id=\"T_e608e_row4_col3\" class=\"data row4 col3\" >0.97</td>\n",
       "                        <td id=\"T_e608e_row4_col4\" class=\"data row4 col4\" >1.00</td>\n",
       "                        <td id=\"T_e608e_row4_col5\" class=\"data row4 col5\" >-0.11</td>\n",
       "                        <td id=\"T_e608e_row4_col6\" class=\"data row4 col6\" >0.06</td>\n",
       "                        <td id=\"T_e608e_row4_col7\" class=\"data row4 col7\" >0.05</td>\n",
       "                        <td id=\"T_e608e_row4_col8\" class=\"data row4 col8\" >-0.01</td>\n",
       "                        <td id=\"T_e608e_row4_col9\" class=\"data row4 col9\" >-0.02</td>\n",
       "                        <td id=\"T_e608e_row4_col10\" class=\"data row4 col10\" >0.04</td>\n",
       "                        <td id=\"T_e608e_row4_col11\" class=\"data row4 col11\" >-0.08</td>\n",
       "                        <td id=\"T_e608e_row4_col12\" class=\"data row4 col12\" >-0.07</td>\n",
       "                        <td id=\"T_e608e_row4_col13\" class=\"data row4 col13\" >-0.06</td>\n",
       "                        <td id=\"T_e608e_row4_col14\" class=\"data row4 col14\" >-0.11</td>\n",
       "                        <td id=\"T_e608e_row4_col15\" class=\"data row4 col15\" >-0.05</td>\n",
       "                        <td id=\"T_e608e_row4_col16\" class=\"data row4 col16\" >-0.03</td>\n",
       "                        <td id=\"T_e608e_row4_col17\" class=\"data row4 col17\" >-0.08</td>\n",
       "                        <td id=\"T_e608e_row4_col18\" class=\"data row4 col18\" >0.47</td>\n",
       "                        <td id=\"T_e608e_row4_col19\" class=\"data row4 col19\" >-0.02</td>\n",
       "                        <td id=\"T_e608e_row4_col20\" class=\"data row4 col20\" >-0.03</td>\n",
       "                        <td id=\"T_e608e_row4_col21\" class=\"data row4 col21\" >0.05</td>\n",
       "                        <td id=\"T_e608e_row4_col22\" class=\"data row4 col22\" >0.07</td>\n",
       "            </tr>\n",
       "            <tr>\n",
       "                        <th id=\"T_e608e_level0_row5\" class=\"row_heading level0 row5\" >KitchenSquare</th>\n",
       "                        <td id=\"T_e608e_row5_col0\" class=\"data row5 col0\" >0.01</td>\n",
       "                        <td id=\"T_e608e_row5_col1\" class=\"data row5 col1\" >0.13</td>\n",
       "                        <td id=\"T_e608e_row5_col2\" class=\"data row5 col2\" >0.04</td>\n",
       "                        <td id=\"T_e608e_row5_col3\" class=\"data row5 col3\" >0.02</td>\n",
       "                        <td id=\"T_e608e_row5_col4\" class=\"data row5 col4\" >-0.11</td>\n",
       "                        <td id=\"T_e608e_row5_col5\" class=\"data row5 col5\" >1.00</td>\n",
       "                        <td id=\"T_e608e_row5_col6\" class=\"data row5 col6\" >0.02</td>\n",
       "                        <td id=\"T_e608e_row5_col7\" class=\"data row5 col7\" >0.02</td>\n",
       "                        <td id=\"T_e608e_row5_col8\" class=\"data row5 col8\" >0.24</td>\n",
       "                        <td id=\"T_e608e_row5_col9\" class=\"data row5 col9\" >-0.01</td>\n",
       "                        <td id=\"T_e608e_row5_col10\" class=\"data row5 col10\" >-0.05</td>\n",
       "                        <td id=\"T_e608e_row5_col11\" class=\"data row5 col11\" >0.13</td>\n",
       "                        <td id=\"T_e608e_row5_col12\" class=\"data row5 col12\" >0.12</td>\n",
       "                        <td id=\"T_e608e_row5_col13\" class=\"data row5 col13\" >0.05</td>\n",
       "                        <td id=\"T_e608e_row5_col14\" class=\"data row5 col14\" >0.12</td>\n",
       "                        <td id=\"T_e608e_row5_col15\" class=\"data row5 col15\" >0.07</td>\n",
       "                        <td id=\"T_e608e_row5_col16\" class=\"data row5 col16\" >0.08</td>\n",
       "                        <td id=\"T_e608e_row5_col17\" class=\"data row5 col17\" >-0.02</td>\n",
       "                        <td id=\"T_e608e_row5_col18\" class=\"data row5 col18\" >0.13</td>\n",
       "                        <td id=\"T_e608e_row5_col19\" class=\"data row5 col19\" >0.25</td>\n",
       "                        <td id=\"T_e608e_row5_col20\" class=\"data row5 col20\" >0.22</td>\n",
       "                        <td id=\"T_e608e_row5_col21\" class=\"data row5 col21\" >0.09</td>\n",
       "                        <td id=\"T_e608e_row5_col22\" class=\"data row5 col22\" >0.11</td>\n",
       "            </tr>\n",
       "            <tr>\n",
       "                        <th id=\"T_e608e_level0_row6\" class=\"row_heading level0 row6\" >Floor</th>\n",
       "                        <td id=\"T_e608e_row6_col0\" class=\"data row6 col0\" >-0.00</td>\n",
       "                        <td id=\"T_e608e_row6_col1\" class=\"data row6 col1\" >-0.12</td>\n",
       "                        <td id=\"T_e608e_row6_col2\" class=\"data row6 col2\" >0.02</td>\n",
       "                        <td id=\"T_e608e_row6_col3\" class=\"data row6 col3\" >0.07</td>\n",
       "                        <td id=\"T_e608e_row6_col4\" class=\"data row6 col4\" >0.06</td>\n",
       "                        <td id=\"T_e608e_row6_col5\" class=\"data row6 col5\" >0.02</td>\n",
       "                        <td id=\"T_e608e_row6_col6\" class=\"data row6 col6\" >1.00</td>\n",
       "                        <td id=\"T_e608e_row6_col7\" class=\"data row6 col7\" >0.57</td>\n",
       "                        <td id=\"T_e608e_row6_col8\" class=\"data row6 col8\" >0.07</td>\n",
       "                        <td id=\"T_e608e_row6_col9\" class=\"data row6 col9\" >0.02</td>\n",
       "                        <td id=\"T_e608e_row6_col10\" class=\"data row6 col10\" >-0.02</td>\n",
       "                        <td id=\"T_e608e_row6_col11\" class=\"data row6 col11\" >-0.06</td>\n",
       "                        <td id=\"T_e608e_row6_col12\" class=\"data row6 col12\" >-0.04</td>\n",
       "                        <td id=\"T_e608e_row6_col13\" class=\"data row6 col13\" >-0.02</td>\n",
       "                        <td id=\"T_e608e_row6_col14\" class=\"data row6 col14\" >-0.12</td>\n",
       "                        <td id=\"T_e608e_row6_col15\" class=\"data row6 col15\" >0.01</td>\n",
       "                        <td id=\"T_e608e_row6_col16\" class=\"data row6 col16\" >0.01</td>\n",
       "                        <td id=\"T_e608e_row6_col17\" class=\"data row6 col17\" >0.02</td>\n",
       "                        <td id=\"T_e608e_row6_col18\" class=\"data row6 col18\" >0.17</td>\n",
       "                        <td id=\"T_e608e_row6_col19\" class=\"data row6 col19\" >0.06</td>\n",
       "                        <td id=\"T_e608e_row6_col20\" class=\"data row6 col20\" >0.01</td>\n",
       "                        <td id=\"T_e608e_row6_col21\" class=\"data row6 col21\" >0.11</td>\n",
       "                        <td id=\"T_e608e_row6_col22\" class=\"data row6 col22\" >0.16</td>\n",
       "            </tr>\n",
       "            <tr>\n",
       "                        <th id=\"T_e608e_level0_row7\" class=\"row_heading level0 row7\" >HouseFloor</th>\n",
       "                        <td id=\"T_e608e_row7_col0\" class=\"data row7 col0\" >-0.02</td>\n",
       "                        <td id=\"T_e608e_row7_col1\" class=\"data row7 col1\" >-0.24</td>\n",
       "                        <td id=\"T_e608e_row7_col2\" class=\"data row7 col2\" >-0.01</td>\n",
       "                        <td id=\"T_e608e_row7_col3\" class=\"data row7 col3\" >0.04</td>\n",
       "                        <td id=\"T_e608e_row7_col4\" class=\"data row7 col4\" >0.05</td>\n",
       "                        <td id=\"T_e608e_row7_col5\" class=\"data row7 col5\" >0.02</td>\n",
       "                        <td id=\"T_e608e_row7_col6\" class=\"data row7 col6\" >0.57</td>\n",
       "                        <td id=\"T_e608e_row7_col7\" class=\"data row7 col7\" >1.00</td>\n",
       "                        <td id=\"T_e608e_row7_col8\" class=\"data row7 col8\" >0.11</td>\n",
       "                        <td id=\"T_e608e_row7_col9\" class=\"data row7 col9\" >0.01</td>\n",
       "                        <td id=\"T_e608e_row7_col10\" class=\"data row7 col10\" >0.02</td>\n",
       "                        <td id=\"T_e608e_row7_col11\" class=\"data row7 col11\" >-0.18</td>\n",
       "                        <td id=\"T_e608e_row7_col12\" class=\"data row7 col12\" >-0.15</td>\n",
       "                        <td id=\"T_e608e_row7_col13\" class=\"data row7 col13\" >-0.06</td>\n",
       "                        <td id=\"T_e608e_row7_col14\" class=\"data row7 col14\" >-0.12</td>\n",
       "                        <td id=\"T_e608e_row7_col15\" class=\"data row7 col15\" >-0.08</td>\n",
       "                        <td id=\"T_e608e_row7_col16\" class=\"data row7 col16\" >-0.06</td>\n",
       "                        <td id=\"T_e608e_row7_col17\" class=\"data row7 col17\" >0.07</td>\n",
       "                        <td id=\"T_e608e_row7_col18\" class=\"data row7 col18\" >0.08</td>\n",
       "                        <td id=\"T_e608e_row7_col19\" class=\"data row7 col19\" >0.09</td>\n",
       "                        <td id=\"T_e608e_row7_col20\" class=\"data row7 col20\" >0.01</td>\n",
       "                        <td id=\"T_e608e_row7_col21\" class=\"data row7 col21\" >0.03</td>\n",
       "                        <td id=\"T_e608e_row7_col22\" class=\"data row7 col22\" >0.10</td>\n",
       "            </tr>\n",
       "            <tr>\n",
       "                        <th id=\"T_e608e_level0_row8\" class=\"row_heading level0 row8\" >HouseYear</th>\n",
       "                        <td id=\"T_e608e_row8_col0\" class=\"data row8 col0\" >0.00</td>\n",
       "                        <td id=\"T_e608e_row8_col1\" class=\"data row8 col1\" >-0.01</td>\n",
       "                        <td id=\"T_e608e_row8_col2\" class=\"data row8 col2\" >0.00</td>\n",
       "                        <td id=\"T_e608e_row8_col3\" class=\"data row8 col3\" >0.05</td>\n",
       "                        <td id=\"T_e608e_row8_col4\" class=\"data row8 col4\" >-0.01</td>\n",
       "                        <td id=\"T_e608e_row8_col5\" class=\"data row8 col5\" >0.24</td>\n",
       "                        <td id=\"T_e608e_row8_col6\" class=\"data row8 col6\" >0.07</td>\n",
       "                        <td id=\"T_e608e_row8_col7\" class=\"data row8 col7\" >0.11</td>\n",
       "                        <td id=\"T_e608e_row8_col8\" class=\"data row8 col8\" >1.00</td>\n",
       "                        <td id=\"T_e608e_row8_col9\" class=\"data row8 col9\" >-0.02</td>\n",
       "                        <td id=\"T_e608e_row8_col10\" class=\"data row8 col10\" >0.01</td>\n",
       "                        <td id=\"T_e608e_row8_col11\" class=\"data row8 col11\" >0.04</td>\n",
       "                        <td id=\"T_e608e_row8_col12\" class=\"data row8 col12\" >0.06</td>\n",
       "                        <td id=\"T_e608e_row8_col13\" class=\"data row8 col13\" >-0.02</td>\n",
       "                        <td id=\"T_e608e_row8_col14\" class=\"data row8 col14\" >-0.06</td>\n",
       "                        <td id=\"T_e608e_row8_col15\" class=\"data row8 col15\" >0.01</td>\n",
       "                        <td id=\"T_e608e_row8_col16\" class=\"data row8 col16\" >0.03</td>\n",
       "                        <td id=\"T_e608e_row8_col17\" class=\"data row8 col17\" >-0.01</td>\n",
       "                        <td id=\"T_e608e_row8_col18\" class=\"data row8 col18\" >0.08</td>\n",
       "                        <td id=\"T_e608e_row8_col19\" class=\"data row8 col19\" >0.99</td>\n",
       "                        <td id=\"T_e608e_row8_col20\" class=\"data row8 col20\" >0.65</td>\n",
       "                        <td id=\"T_e608e_row8_col21\" class=\"data row8 col21\" >0.05</td>\n",
       "                        <td id=\"T_e608e_row8_col22\" class=\"data row8 col22\" >0.04</td>\n",
       "            </tr>\n",
       "            <tr>\n",
       "                        <th id=\"T_e608e_level0_row9\" class=\"row_heading level0 row9\" >Ecology_1</th>\n",
       "                        <td id=\"T_e608e_row9_col0\" class=\"data row9 col0\" >0.02</td>\n",
       "                        <td id=\"T_e608e_row9_col1\" class=\"data row9 col1\" >0.14</td>\n",
       "                        <td id=\"T_e608e_row9_col2\" class=\"data row9 col2\" >-0.05</td>\n",
       "                        <td id=\"T_e608e_row9_col3\" class=\"data row9 col3\" >-0.02</td>\n",
       "                        <td id=\"T_e608e_row9_col4\" class=\"data row9 col4\" >-0.02</td>\n",
       "                        <td id=\"T_e608e_row9_col5\" class=\"data row9 col5\" >-0.01</td>\n",
       "                        <td id=\"T_e608e_row9_col6\" class=\"data row9 col6\" >0.02</td>\n",
       "                        <td id=\"T_e608e_row9_col7\" class=\"data row9 col7\" >0.01</td>\n",
       "                        <td id=\"T_e608e_row9_col8\" class=\"data row9 col8\" >-0.02</td>\n",
       "                        <td id=\"T_e608e_row9_col9\" class=\"data row9 col9\" >1.00</td>\n",
       "                        <td id=\"T_e608e_row9_col10\" class=\"data row9 col10\" >-0.04</td>\n",
       "                        <td id=\"T_e608e_row9_col11\" class=\"data row9 col11\" >0.18</td>\n",
       "                        <td id=\"T_e608e_row9_col12\" class=\"data row9 col12\" >0.18</td>\n",
       "                        <td id=\"T_e608e_row9_col13\" class=\"data row9 col13\" >0.09</td>\n",
       "                        <td id=\"T_e608e_row9_col14\" class=\"data row9 col14\" >-0.09</td>\n",
       "                        <td id=\"T_e608e_row9_col15\" class=\"data row9 col15\" >0.09</td>\n",
       "                        <td id=\"T_e608e_row9_col16\" class=\"data row9 col16\" >0.15</td>\n",
       "                        <td id=\"T_e608e_row9_col17\" class=\"data row9 col17\" >0.09</td>\n",
       "                        <td id=\"T_e608e_row9_col18\" class=\"data row9 col18\" >-0.06</td>\n",
       "                        <td id=\"T_e608e_row9_col19\" class=\"data row9 col19\" >-0.01</td>\n",
       "                        <td id=\"T_e608e_row9_col20\" class=\"data row9 col20\" >-0.00</td>\n",
       "                        <td id=\"T_e608e_row9_col21\" class=\"data row9 col21\" >-0.05</td>\n",
       "                        <td id=\"T_e608e_row9_col22\" class=\"data row9 col22\" >-0.08</td>\n",
       "            </tr>\n",
       "            <tr>\n",
       "                        <th id=\"T_e608e_level0_row10\" class=\"row_heading level0 row10\" >Ecology_3</th>\n",
       "                        <td id=\"T_e608e_row10_col0\" class=\"data row10 col0\" >-0.00</td>\n",
       "                        <td id=\"T_e608e_row10_col1\" class=\"data row10 col1\" >-0.04</td>\n",
       "                        <td id=\"T_e608e_row10_col2\" class=\"data row10 col2\" >-0.01</td>\n",
       "                        <td id=\"T_e608e_row10_col3\" class=\"data row10 col3\" >0.01</td>\n",
       "                        <td id=\"T_e608e_row10_col4\" class=\"data row10 col4\" >0.04</td>\n",
       "                        <td id=\"T_e608e_row10_col5\" class=\"data row10 col5\" >-0.05</td>\n",
       "                        <td id=\"T_e608e_row10_col6\" class=\"data row10 col6\" >-0.02</td>\n",
       "                        <td id=\"T_e608e_row10_col7\" class=\"data row10 col7\" >0.02</td>\n",
       "                        <td id=\"T_e608e_row10_col8\" class=\"data row10 col8\" >0.01</td>\n",
       "                        <td id=\"T_e608e_row10_col9\" class=\"data row10 col9\" >-0.04</td>\n",
       "                        <td id=\"T_e608e_row10_col10\" class=\"data row10 col10\" >1.00</td>\n",
       "                        <td id=\"T_e608e_row10_col11\" class=\"data row10 col11\" >-0.08</td>\n",
       "                        <td id=\"T_e608e_row10_col12\" class=\"data row10 col12\" >-0.05</td>\n",
       "                        <td id=\"T_e608e_row10_col13\" class=\"data row10 col13\" >-0.06</td>\n",
       "                        <td id=\"T_e608e_row10_col14\" class=\"data row10 col14\" >-0.08</td>\n",
       "                        <td id=\"T_e608e_row10_col15\" class=\"data row10 col15\" >-0.15</td>\n",
       "                        <td id=\"T_e608e_row10_col16\" class=\"data row10 col16\" >-0.03</td>\n",
       "                        <td id=\"T_e608e_row10_col17\" class=\"data row10 col17\" >-0.03</td>\n",
       "                        <td id=\"T_e608e_row10_col18\" class=\"data row10 col18\" >-0.09</td>\n",
       "                        <td id=\"T_e608e_row10_col19\" class=\"data row10 col19\" >-0.00</td>\n",
       "                        <td id=\"T_e608e_row10_col20\" class=\"data row10 col20\" >-0.05</td>\n",
       "                        <td id=\"T_e608e_row10_col21\" class=\"data row10 col21\" >-0.09</td>\n",
       "                        <td id=\"T_e608e_row10_col22\" class=\"data row10 col22\" >-0.10</td>\n",
       "            </tr>\n",
       "            <tr>\n",
       "                        <th id=\"T_e608e_level0_row11\" class=\"row_heading level0 row11\" >Social_1</th>\n",
       "                        <td id=\"T_e608e_row11_col0\" class=\"data row11 col0\" >0.03</td>\n",
       "                        <td id=\"T_e608e_row11_col1\" class=\"data row11 col1\" >0.46</td>\n",
       "                        <td id=\"T_e608e_row11_col2\" class=\"data row11 col2\" >0.09</td>\n",
       "                        <td id=\"T_e608e_row11_col3\" class=\"data row11 col3\" >-0.06</td>\n",
       "                        <td id=\"T_e608e_row11_col4\" class=\"data row11 col4\" >-0.08</td>\n",
       "                        <td id=\"T_e608e_row11_col5\" class=\"data row11 col5\" >0.13</td>\n",
       "                        <td id=\"T_e608e_row11_col6\" class=\"data row11 col6\" >-0.06</td>\n",
       "                        <td id=\"T_e608e_row11_col7\" class=\"data row11 col7\" >-0.18</td>\n",
       "                        <td id=\"T_e608e_row11_col8\" class=\"data row11 col8\" >0.04</td>\n",
       "                        <td id=\"T_e608e_row11_col9\" class=\"data row11 col9\" >0.18</td>\n",
       "                        <td id=\"T_e608e_row11_col10\" class=\"data row11 col10\" >-0.08</td>\n",
       "                        <td id=\"T_e608e_row11_col11\" class=\"data row11 col11\" >1.00</td>\n",
       "                        <td id=\"T_e608e_row11_col12\" class=\"data row11 col12\" >0.97</td>\n",
       "                        <td id=\"T_e608e_row11_col13\" class=\"data row11 col13\" >0.22</td>\n",
       "                        <td id=\"T_e608e_row11_col14\" class=\"data row11 col14\" >0.22</td>\n",
       "                        <td id=\"T_e608e_row11_col15\" class=\"data row11 col15\" >0.59</td>\n",
       "                        <td id=\"T_e608e_row11_col16\" class=\"data row11 col16\" >0.72</td>\n",
       "                        <td id=\"T_e608e_row11_col17\" class=\"data row11 col17\" >0.22</td>\n",
       "                        <td id=\"T_e608e_row11_col18\" class=\"data row11 col18\" >0.29</td>\n",
       "                        <td id=\"T_e608e_row11_col19\" class=\"data row11 col19\" >0.07</td>\n",
       "                        <td id=\"T_e608e_row11_col20\" class=\"data row11 col20\" >0.10</td>\n",
       "                        <td id=\"T_e608e_row11_col21\" class=\"data row11 col21\" >0.39</td>\n",
       "                        <td id=\"T_e608e_row11_col22\" class=\"data row11 col22\" >0.37</td>\n",
       "            </tr>\n",
       "            <tr>\n",
       "                        <th id=\"T_e608e_level0_row12\" class=\"row_heading level0 row12\" >Social_2</th>\n",
       "                        <td id=\"T_e608e_row12_col0\" class=\"data row12 col0\" >0.02</td>\n",
       "                        <td id=\"T_e608e_row12_col1\" class=\"data row12 col1\" >0.41</td>\n",
       "                        <td id=\"T_e608e_row12_col2\" class=\"data row12 col2\" >0.08</td>\n",
       "                        <td id=\"T_e608e_row12_col3\" class=\"data row12 col3\" >-0.04</td>\n",
       "                        <td id=\"T_e608e_row12_col4\" class=\"data row12 col4\" >-0.07</td>\n",
       "                        <td id=\"T_e608e_row12_col5\" class=\"data row12 col5\" >0.12</td>\n",
       "                        <td id=\"T_e608e_row12_col6\" class=\"data row12 col6\" >-0.04</td>\n",
       "                        <td id=\"T_e608e_row12_col7\" class=\"data row12 col7\" >-0.15</td>\n",
       "                        <td id=\"T_e608e_row12_col8\" class=\"data row12 col8\" >0.06</td>\n",
       "                        <td id=\"T_e608e_row12_col9\" class=\"data row12 col9\" >0.18</td>\n",
       "                        <td id=\"T_e608e_row12_col10\" class=\"data row12 col10\" >-0.05</td>\n",
       "                        <td id=\"T_e608e_row12_col11\" class=\"data row12 col11\" >0.97</td>\n",
       "                        <td id=\"T_e608e_row12_col12\" class=\"data row12 col12\" >1.00</td>\n",
       "                        <td id=\"T_e608e_row12_col13\" class=\"data row12 col13\" >0.21</td>\n",
       "                        <td id=\"T_e608e_row12_col14\" class=\"data row12 col14\" >0.20</td>\n",
       "                        <td id=\"T_e608e_row12_col15\" class=\"data row12 col15\" >0.58</td>\n",
       "                        <td id=\"T_e608e_row12_col16\" class=\"data row12 col16\" >0.71</td>\n",
       "                        <td id=\"T_e608e_row12_col17\" class=\"data row12 col17\" >0.22</td>\n",
       "                        <td id=\"T_e608e_row12_col18\" class=\"data row12 col18\" >0.27</td>\n",
       "                        <td id=\"T_e608e_row12_col19\" class=\"data row12 col19\" >0.08</td>\n",
       "                        <td id=\"T_e608e_row12_col20\" class=\"data row12 col20\" >0.10</td>\n",
       "                        <td id=\"T_e608e_row12_col21\" class=\"data row12 col21\" >0.37</td>\n",
       "                        <td id=\"T_e608e_row12_col22\" class=\"data row12 col22\" >0.35</td>\n",
       "            </tr>\n",
       "            <tr>\n",
       "                        <th id=\"T_e608e_level0_row13\" class=\"row_heading level0 row13\" >Social_3</th>\n",
       "                        <td id=\"T_e608e_row13_col0\" class=\"data row13 col0\" >-0.00</td>\n",
       "                        <td id=\"T_e608e_row13_col1\" class=\"data row13 col1\" >0.38</td>\n",
       "                        <td id=\"T_e608e_row13_col2\" class=\"data row13 col2\" >0.02</td>\n",
       "                        <td id=\"T_e608e_row13_col3\" class=\"data row13 col3\" >-0.05</td>\n",
       "                        <td id=\"T_e608e_row13_col4\" class=\"data row13 col4\" >-0.06</td>\n",
       "                        <td id=\"T_e608e_row13_col5\" class=\"data row13 col5\" >0.05</td>\n",
       "                        <td id=\"T_e608e_row13_col6\" class=\"data row13 col6\" >-0.02</td>\n",
       "                        <td id=\"T_e608e_row13_col7\" class=\"data row13 col7\" >-0.06</td>\n",
       "                        <td id=\"T_e608e_row13_col8\" class=\"data row13 col8\" >-0.02</td>\n",
       "                        <td id=\"T_e608e_row13_col9\" class=\"data row13 col9\" >0.09</td>\n",
       "                        <td id=\"T_e608e_row13_col10\" class=\"data row13 col10\" >-0.06</td>\n",
       "                        <td id=\"T_e608e_row13_col11\" class=\"data row13 col11\" >0.22</td>\n",
       "                        <td id=\"T_e608e_row13_col12\" class=\"data row13 col12\" >0.21</td>\n",
       "                        <td id=\"T_e608e_row13_col13\" class=\"data row13 col13\" >1.00</td>\n",
       "                        <td id=\"T_e608e_row13_col14\" class=\"data row13 col14\" >0.38</td>\n",
       "                        <td id=\"T_e608e_row13_col15\" class=\"data row13 col15\" >0.37</td>\n",
       "                        <td id=\"T_e608e_row13_col16\" class=\"data row13 col16\" >0.39</td>\n",
       "                        <td id=\"T_e608e_row13_col17\" class=\"data row13 col17\" >0.06</td>\n",
       "                        <td id=\"T_e608e_row13_col18\" class=\"data row13 col18\" >0.25</td>\n",
       "                        <td id=\"T_e608e_row13_col19\" class=\"data row13 col19\" >-0.00</td>\n",
       "                        <td id=\"T_e608e_row13_col20\" class=\"data row13 col20\" >0.06</td>\n",
       "                        <td id=\"T_e608e_row13_col21\" class=\"data row13 col21\" >0.30</td>\n",
       "                        <td id=\"T_e608e_row13_col22\" class=\"data row13 col22\" >0.32</td>\n",
       "            </tr>\n",
       "            <tr>\n",
       "                        <th id=\"T_e608e_level0_row14\" class=\"row_heading level0 row14\" >Healthcare_1</th>\n",
       "                        <td id=\"T_e608e_row14_col0\" class=\"data row14 col0\" >0.01</td>\n",
       "                        <td id=\"T_e608e_row14_col1\" class=\"data row14 col1\" >0.38</td>\n",
       "                        <td id=\"T_e608e_row14_col2\" class=\"data row14 col2\" >0.04</td>\n",
       "                        <td id=\"T_e608e_row14_col3\" class=\"data row14 col3\" >-0.08</td>\n",
       "                        <td id=\"T_e608e_row14_col4\" class=\"data row14 col4\" >-0.11</td>\n",
       "                        <td id=\"T_e608e_row14_col5\" class=\"data row14 col5\" >0.12</td>\n",
       "                        <td id=\"T_e608e_row14_col6\" class=\"data row14 col6\" >-0.12</td>\n",
       "                        <td id=\"T_e608e_row14_col7\" class=\"data row14 col7\" >-0.12</td>\n",
       "                        <td id=\"T_e608e_row14_col8\" class=\"data row14 col8\" >-0.06</td>\n",
       "                        <td id=\"T_e608e_row14_col9\" class=\"data row14 col9\" >-0.09</td>\n",
       "                        <td id=\"T_e608e_row14_col10\" class=\"data row14 col10\" >-0.08</td>\n",
       "                        <td id=\"T_e608e_row14_col11\" class=\"data row14 col11\" >0.22</td>\n",
       "                        <td id=\"T_e608e_row14_col12\" class=\"data row14 col12\" >0.20</td>\n",
       "                        <td id=\"T_e608e_row14_col13\" class=\"data row14 col13\" >0.38</td>\n",
       "                        <td id=\"T_e608e_row14_col14\" class=\"data row14 col14\" >1.00</td>\n",
       "                        <td id=\"T_e608e_row14_col15\" class=\"data row14 col15\" >0.25</td>\n",
       "                        <td id=\"T_e608e_row14_col16\" class=\"data row14 col16\" >0.15</td>\n",
       "                        <td id=\"T_e608e_row14_col17\" class=\"data row14 col17\" >-0.03</td>\n",
       "                        <td id=\"T_e608e_row14_col18\" class=\"data row14 col18\" >0.21</td>\n",
       "                        <td id=\"T_e608e_row14_col19\" class=\"data row14 col19\" >-0.03</td>\n",
       "                        <td id=\"T_e608e_row14_col20\" class=\"data row14 col20\" >0.04</td>\n",
       "                        <td id=\"T_e608e_row14_col21\" class=\"data row14 col21\" >0.18</td>\n",
       "                        <td id=\"T_e608e_row14_col22\" class=\"data row14 col22\" >0.27</td>\n",
       "            </tr>\n",
       "            <tr>\n",
       "                        <th id=\"T_e608e_level0_row15\" class=\"row_heading level0 row15\" >Helthcare_2</th>\n",
       "                        <td id=\"T_e608e_row15_col0\" class=\"data row15 col0\" >0.02</td>\n",
       "                        <td id=\"T_e608e_row15_col1\" class=\"data row15 col1\" >0.35</td>\n",
       "                        <td id=\"T_e608e_row15_col2\" class=\"data row15 col2\" >0.06</td>\n",
       "                        <td id=\"T_e608e_row15_col3\" class=\"data row15 col3\" >-0.03</td>\n",
       "                        <td id=\"T_e608e_row15_col4\" class=\"data row15 col4\" >-0.05</td>\n",
       "                        <td id=\"T_e608e_row15_col5\" class=\"data row15 col5\" >0.07</td>\n",
       "                        <td id=\"T_e608e_row15_col6\" class=\"data row15 col6\" >0.01</td>\n",
       "                        <td id=\"T_e608e_row15_col7\" class=\"data row15 col7\" >-0.08</td>\n",
       "                        <td id=\"T_e608e_row15_col8\" class=\"data row15 col8\" >0.01</td>\n",
       "                        <td id=\"T_e608e_row15_col9\" class=\"data row15 col9\" >0.09</td>\n",
       "                        <td id=\"T_e608e_row15_col10\" class=\"data row15 col10\" >-0.15</td>\n",
       "                        <td id=\"T_e608e_row15_col11\" class=\"data row15 col11\" >0.59</td>\n",
       "                        <td id=\"T_e608e_row15_col12\" class=\"data row15 col12\" >0.58</td>\n",
       "                        <td id=\"T_e608e_row15_col13\" class=\"data row15 col13\" >0.37</td>\n",
       "                        <td id=\"T_e608e_row15_col14\" class=\"data row15 col14\" >0.25</td>\n",
       "                        <td id=\"T_e608e_row15_col15\" class=\"data row15 col15\" >1.00</td>\n",
       "                        <td id=\"T_e608e_row15_col16\" class=\"data row15 col16\" >0.51</td>\n",
       "                        <td id=\"T_e608e_row15_col17\" class=\"data row15 col17\" >0.16</td>\n",
       "                        <td id=\"T_e608e_row15_col18\" class=\"data row15 col18\" >0.32</td>\n",
       "                        <td id=\"T_e608e_row15_col19\" class=\"data row15 col19\" >0.04</td>\n",
       "                        <td id=\"T_e608e_row15_col20\" class=\"data row15 col20\" >0.09</td>\n",
       "                        <td id=\"T_e608e_row15_col21\" class=\"data row15 col21\" >0.45</td>\n",
       "                        <td id=\"T_e608e_row15_col22\" class=\"data row15 col22\" >0.44</td>\n",
       "            </tr>\n",
       "            <tr>\n",
       "                        <th id=\"T_e608e_level0_row16\" class=\"row_heading level0 row16\" >Shops_1</th>\n",
       "                        <td id=\"T_e608e_row16_col0\" class=\"data row16 col0\" >0.01</td>\n",
       "                        <td id=\"T_e608e_row16_col1\" class=\"data row16 col1\" >0.42</td>\n",
       "                        <td id=\"T_e608e_row16_col2\" class=\"data row16 col2\" >0.08</td>\n",
       "                        <td id=\"T_e608e_row16_col3\" class=\"data row16 col3\" >-0.01</td>\n",
       "                        <td id=\"T_e608e_row16_col4\" class=\"data row16 col4\" >-0.03</td>\n",
       "                        <td id=\"T_e608e_row16_col5\" class=\"data row16 col5\" >0.08</td>\n",
       "                        <td id=\"T_e608e_row16_col6\" class=\"data row16 col6\" >0.01</td>\n",
       "                        <td id=\"T_e608e_row16_col7\" class=\"data row16 col7\" >-0.06</td>\n",
       "                        <td id=\"T_e608e_row16_col8\" class=\"data row16 col8\" >0.03</td>\n",
       "                        <td id=\"T_e608e_row16_col9\" class=\"data row16 col9\" >0.15</td>\n",
       "                        <td id=\"T_e608e_row16_col10\" class=\"data row16 col10\" >-0.03</td>\n",
       "                        <td id=\"T_e608e_row16_col11\" class=\"data row16 col11\" >0.72</td>\n",
       "                        <td id=\"T_e608e_row16_col12\" class=\"data row16 col12\" >0.71</td>\n",
       "                        <td id=\"T_e608e_row16_col13\" class=\"data row16 col13\" >0.39</td>\n",
       "                        <td id=\"T_e608e_row16_col14\" class=\"data row16 col14\" >0.15</td>\n",
       "                        <td id=\"T_e608e_row16_col15\" class=\"data row16 col15\" >0.51</td>\n",
       "                        <td id=\"T_e608e_row16_col16\" class=\"data row16 col16\" >1.00</td>\n",
       "                        <td id=\"T_e608e_row16_col17\" class=\"data row16 col17\" >0.21</td>\n",
       "                        <td id=\"T_e608e_row16_col18\" class=\"data row16 col18\" >0.35</td>\n",
       "                        <td id=\"T_e608e_row16_col19\" class=\"data row16 col19\" >0.05</td>\n",
       "                        <td id=\"T_e608e_row16_col20\" class=\"data row16 col20\" >0.07</td>\n",
       "                        <td id=\"T_e608e_row16_col21\" class=\"data row16 col21\" >0.43</td>\n",
       "                        <td id=\"T_e608e_row16_col22\" class=\"data row16 col22\" >0.45</td>\n",
       "            </tr>\n",
       "            <tr>\n",
       "                        <th id=\"T_e608e_level0_row17\" class=\"row_heading level0 row17\" >Shops_2</th>\n",
       "                        <td id=\"T_e608e_row17_col0\" class=\"data row17 col0\" >-0.00</td>\n",
       "                        <td id=\"T_e608e_row17_col1\" class=\"data row17 col1\" >-0.17</td>\n",
       "                        <td id=\"T_e608e_row17_col2\" class=\"data row17 col2\" >-0.05</td>\n",
       "                        <td id=\"T_e608e_row17_col3\" class=\"data row17 col3\" >-0.08</td>\n",
       "                        <td id=\"T_e608e_row17_col4\" class=\"data row17 col4\" >-0.08</td>\n",
       "                        <td id=\"T_e608e_row17_col5\" class=\"data row17 col5\" >-0.02</td>\n",
       "                        <td id=\"T_e608e_row17_col6\" class=\"data row17 col6\" >0.02</td>\n",
       "                        <td id=\"T_e608e_row17_col7\" class=\"data row17 col7\" >0.07</td>\n",
       "                        <td id=\"T_e608e_row17_col8\" class=\"data row17 col8\" >-0.01</td>\n",
       "                        <td id=\"T_e608e_row17_col9\" class=\"data row17 col9\" >0.09</td>\n",
       "                        <td id=\"T_e608e_row17_col10\" class=\"data row17 col10\" >-0.03</td>\n",
       "                        <td id=\"T_e608e_row17_col11\" class=\"data row17 col11\" >0.22</td>\n",
       "                        <td id=\"T_e608e_row17_col12\" class=\"data row17 col12\" >0.22</td>\n",
       "                        <td id=\"T_e608e_row17_col13\" class=\"data row17 col13\" >0.06</td>\n",
       "                        <td id=\"T_e608e_row17_col14\" class=\"data row17 col14\" >-0.03</td>\n",
       "                        <td id=\"T_e608e_row17_col15\" class=\"data row17 col15\" >0.16</td>\n",
       "                        <td id=\"T_e608e_row17_col16\" class=\"data row17 col16\" >0.21</td>\n",
       "                        <td id=\"T_e608e_row17_col17\" class=\"data row17 col17\" >1.00</td>\n",
       "                        <td id=\"T_e608e_row17_col18\" class=\"data row17 col18\" >0.03</td>\n",
       "                        <td id=\"T_e608e_row17_col19\" class=\"data row17 col19\" >0.00</td>\n",
       "                        <td id=\"T_e608e_row17_col20\" class=\"data row17 col20\" >0.02</td>\n",
       "                        <td id=\"T_e608e_row17_col21\" class=\"data row17 col21\" >0.12</td>\n",
       "                        <td id=\"T_e608e_row17_col22\" class=\"data row17 col22\" >0.05</td>\n",
       "            </tr>\n",
       "            <tr>\n",
       "                        <th id=\"T_e608e_level0_row18\" class=\"row_heading level0 row18\" >Price</th>\n",
       "                        <td id=\"T_e608e_row18_col0\" class=\"data row18 col0\" >-0.00</td>\n",
       "                        <td id=\"T_e608e_row18_col1\" class=\"data row18 col1\" >0.21</td>\n",
       "                        <td id=\"T_e608e_row18_col2\" class=\"data row18 col2\" >0.55</td>\n",
       "                        <td id=\"T_e608e_row18_col3\" class=\"data row18 col3\" >0.50</td>\n",
       "                        <td id=\"T_e608e_row18_col4\" class=\"data row18 col4\" >0.47</td>\n",
       "                        <td id=\"T_e608e_row18_col5\" class=\"data row18 col5\" >0.13</td>\n",
       "                        <td id=\"T_e608e_row18_col6\" class=\"data row18 col6\" >0.17</td>\n",
       "                        <td id=\"T_e608e_row18_col7\" class=\"data row18 col7\" >0.08</td>\n",
       "                        <td id=\"T_e608e_row18_col8\" class=\"data row18 col8\" >0.08</td>\n",
       "                        <td id=\"T_e608e_row18_col9\" class=\"data row18 col9\" >-0.06</td>\n",
       "                        <td id=\"T_e608e_row18_col10\" class=\"data row18 col10\" >-0.09</td>\n",
       "                        <td id=\"T_e608e_row18_col11\" class=\"data row18 col11\" >0.29</td>\n",
       "                        <td id=\"T_e608e_row18_col12\" class=\"data row18 col12\" >0.27</td>\n",
       "                        <td id=\"T_e608e_row18_col13\" class=\"data row18 col13\" >0.25</td>\n",
       "                        <td id=\"T_e608e_row18_col14\" class=\"data row18 col14\" >0.21</td>\n",
       "                        <td id=\"T_e608e_row18_col15\" class=\"data row18 col15\" >0.32</td>\n",
       "                        <td id=\"T_e608e_row18_col16\" class=\"data row18 col16\" >0.35</td>\n",
       "                        <td id=\"T_e608e_row18_col17\" class=\"data row18 col17\" >0.03</td>\n",
       "                        <td id=\"T_e608e_row18_col18\" class=\"data row18 col18\" >1.00</td>\n",
       "                        <td id=\"T_e608e_row18_col19\" class=\"data row18 col19\" >0.09</td>\n",
       "                        <td id=\"T_e608e_row18_col20\" class=\"data row18 col20\" >0.11</td>\n",
       "                        <td id=\"T_e608e_row18_col21\" class=\"data row18 col21\" >0.67</td>\n",
       "                        <td id=\"T_e608e_row18_col22\" class=\"data row18 col22\" >0.67</td>\n",
       "            </tr>\n",
       "            <tr>\n",
       "                        <th id=\"T_e608e_level0_row19\" class=\"row_heading level0 row19\" >InterYear</th>\n",
       "                        <td id=\"T_e608e_row19_col0\" class=\"data row19 col0\" >0.00</td>\n",
       "                        <td id=\"T_e608e_row19_col1\" class=\"data row19 col1\" >0.02</td>\n",
       "                        <td id=\"T_e608e_row19_col2\" class=\"data row19 col2\" >0.01</td>\n",
       "                        <td id=\"T_e608e_row19_col3\" class=\"data row19 col3\" >0.04</td>\n",
       "                        <td id=\"T_e608e_row19_col4\" class=\"data row19 col4\" >-0.02</td>\n",
       "                        <td id=\"T_e608e_row19_col5\" class=\"data row19 col5\" >0.25</td>\n",
       "                        <td id=\"T_e608e_row19_col6\" class=\"data row19 col6\" >0.06</td>\n",
       "                        <td id=\"T_e608e_row19_col7\" class=\"data row19 col7\" >0.09</td>\n",
       "                        <td id=\"T_e608e_row19_col8\" class=\"data row19 col8\" >0.99</td>\n",
       "                        <td id=\"T_e608e_row19_col9\" class=\"data row19 col9\" >-0.01</td>\n",
       "                        <td id=\"T_e608e_row19_col10\" class=\"data row19 col10\" >-0.00</td>\n",
       "                        <td id=\"T_e608e_row19_col11\" class=\"data row19 col11\" >0.07</td>\n",
       "                        <td id=\"T_e608e_row19_col12\" class=\"data row19 col12\" >0.08</td>\n",
       "                        <td id=\"T_e608e_row19_col13\" class=\"data row19 col13\" >-0.00</td>\n",
       "                        <td id=\"T_e608e_row19_col14\" class=\"data row19 col14\" >-0.03</td>\n",
       "                        <td id=\"T_e608e_row19_col15\" class=\"data row19 col15\" >0.04</td>\n",
       "                        <td id=\"T_e608e_row19_col16\" class=\"data row19 col16\" >0.05</td>\n",
       "                        <td id=\"T_e608e_row19_col17\" class=\"data row19 col17\" >0.00</td>\n",
       "                        <td id=\"T_e608e_row19_col18\" class=\"data row19 col18\" >0.09</td>\n",
       "                        <td id=\"T_e608e_row19_col19\" class=\"data row19 col19\" >1.00</td>\n",
       "                        <td id=\"T_e608e_row19_col20\" class=\"data row19 col20\" >0.66</td>\n",
       "                        <td id=\"T_e608e_row19_col21\" class=\"data row19 col21\" >0.07</td>\n",
       "                        <td id=\"T_e608e_row19_col22\" class=\"data row19 col22\" >0.06</td>\n",
       "            </tr>\n",
       "            <tr>\n",
       "                        <th id=\"T_e608e_level0_row20\" class=\"row_heading level0 row20\" >MedPrice</th>\n",
       "                        <td id=\"T_e608e_row20_col0\" class=\"data row20 col0\" >0.00</td>\n",
       "                        <td id=\"T_e608e_row20_col1\" class=\"data row20 col1\" >0.09</td>\n",
       "                        <td id=\"T_e608e_row20_col2\" class=\"data row20 col2\" >0.03</td>\n",
       "                        <td id=\"T_e608e_row20_col3\" class=\"data row20 col3\" >0.03</td>\n",
       "                        <td id=\"T_e608e_row20_col4\" class=\"data row20 col4\" >-0.03</td>\n",
       "                        <td id=\"T_e608e_row20_col5\" class=\"data row20 col5\" >0.22</td>\n",
       "                        <td id=\"T_e608e_row20_col6\" class=\"data row20 col6\" >0.01</td>\n",
       "                        <td id=\"T_e608e_row20_col7\" class=\"data row20 col7\" >0.01</td>\n",
       "                        <td id=\"T_e608e_row20_col8\" class=\"data row20 col8\" >0.65</td>\n",
       "                        <td id=\"T_e608e_row20_col9\" class=\"data row20 col9\" >-0.00</td>\n",
       "                        <td id=\"T_e608e_row20_col10\" class=\"data row20 col10\" >-0.05</td>\n",
       "                        <td id=\"T_e608e_row20_col11\" class=\"data row20 col11\" >0.10</td>\n",
       "                        <td id=\"T_e608e_row20_col12\" class=\"data row20 col12\" >0.10</td>\n",
       "                        <td id=\"T_e608e_row20_col13\" class=\"data row20 col13\" >0.06</td>\n",
       "                        <td id=\"T_e608e_row20_col14\" class=\"data row20 col14\" >0.04</td>\n",
       "                        <td id=\"T_e608e_row20_col15\" class=\"data row20 col15\" >0.09</td>\n",
       "                        <td id=\"T_e608e_row20_col16\" class=\"data row20 col16\" >0.07</td>\n",
       "                        <td id=\"T_e608e_row20_col17\" class=\"data row20 col17\" >0.02</td>\n",
       "                        <td id=\"T_e608e_row20_col18\" class=\"data row20 col18\" >0.11</td>\n",
       "                        <td id=\"T_e608e_row20_col19\" class=\"data row20 col19\" >0.66</td>\n",
       "                        <td id=\"T_e608e_row20_col20\" class=\"data row20 col20\" >1.00</td>\n",
       "                        <td id=\"T_e608e_row20_col21\" class=\"data row20 col21\" >0.09</td>\n",
       "                        <td id=\"T_e608e_row20_col22\" class=\"data row20 col22\" >0.09</td>\n",
       "            </tr>\n",
       "            <tr>\n",
       "                        <th id=\"T_e608e_level0_row21\" class=\"row_heading level0 row21\" >MedPriceByDistrict</th>\n",
       "                        <td id=\"T_e608e_row21_col0\" class=\"data row21 col0\" >-0.01</td>\n",
       "                        <td id=\"T_e608e_row21_col1\" class=\"data row21 col1\" >0.25</td>\n",
       "                        <td id=\"T_e608e_row21_col2\" class=\"data row21 col2\" >0.14</td>\n",
       "                        <td id=\"T_e608e_row21_col3\" class=\"data row21 col3\" >0.07</td>\n",
       "                        <td id=\"T_e608e_row21_col4\" class=\"data row21 col4\" >0.05</td>\n",
       "                        <td id=\"T_e608e_row21_col5\" class=\"data row21 col5\" >0.09</td>\n",
       "                        <td id=\"T_e608e_row21_col6\" class=\"data row21 col6\" >0.11</td>\n",
       "                        <td id=\"T_e608e_row21_col7\" class=\"data row21 col7\" >0.03</td>\n",
       "                        <td id=\"T_e608e_row21_col8\" class=\"data row21 col8\" >0.05</td>\n",
       "                        <td id=\"T_e608e_row21_col9\" class=\"data row21 col9\" >-0.05</td>\n",
       "                        <td id=\"T_e608e_row21_col10\" class=\"data row21 col10\" >-0.09</td>\n",
       "                        <td id=\"T_e608e_row21_col11\" class=\"data row21 col11\" >0.39</td>\n",
       "                        <td id=\"T_e608e_row21_col12\" class=\"data row21 col12\" >0.37</td>\n",
       "                        <td id=\"T_e608e_row21_col13\" class=\"data row21 col13\" >0.30</td>\n",
       "                        <td id=\"T_e608e_row21_col14\" class=\"data row21 col14\" >0.18</td>\n",
       "                        <td id=\"T_e608e_row21_col15\" class=\"data row21 col15\" >0.45</td>\n",
       "                        <td id=\"T_e608e_row21_col16\" class=\"data row21 col16\" >0.43</td>\n",
       "                        <td id=\"T_e608e_row21_col17\" class=\"data row21 col17\" >0.12</td>\n",
       "                        <td id=\"T_e608e_row21_col18\" class=\"data row21 col18\" >0.67</td>\n",
       "                        <td id=\"T_e608e_row21_col19\" class=\"data row21 col19\" >0.07</td>\n",
       "                        <td id=\"T_e608e_row21_col20\" class=\"data row21 col20\" >0.09</td>\n",
       "                        <td id=\"T_e608e_row21_col21\" class=\"data row21 col21\" >1.00</td>\n",
       "                        <td id=\"T_e608e_row21_col22\" class=\"data row21 col22\" >0.82</td>\n",
       "            </tr>\n",
       "            <tr>\n",
       "                        <th id=\"T_e608e_level0_row22\" class=\"row_heading level0 row22\" >MedSocialEcoPrice</th>\n",
       "                        <td id=\"T_e608e_row22_col0\" class=\"data row22 col0\" >0.01</td>\n",
       "                        <td id=\"T_e608e_row22_col1\" class=\"data row22 col1\" >0.22</td>\n",
       "                        <td id=\"T_e608e_row22_col2\" class=\"data row22 col2\" >0.16</td>\n",
       "                        <td id=\"T_e608e_row22_col3\" class=\"data row22 col3\" >0.09</td>\n",
       "                        <td id=\"T_e608e_row22_col4\" class=\"data row22 col4\" >0.07</td>\n",
       "                        <td id=\"T_e608e_row22_col5\" class=\"data row22 col5\" >0.11</td>\n",
       "                        <td id=\"T_e608e_row22_col6\" class=\"data row22 col6\" >0.16</td>\n",
       "                        <td id=\"T_e608e_row22_col7\" class=\"data row22 col7\" >0.10</td>\n",
       "                        <td id=\"T_e608e_row22_col8\" class=\"data row22 col8\" >0.04</td>\n",
       "                        <td id=\"T_e608e_row22_col9\" class=\"data row22 col9\" >-0.08</td>\n",
       "                        <td id=\"T_e608e_row22_col10\" class=\"data row22 col10\" >-0.10</td>\n",
       "                        <td id=\"T_e608e_row22_col11\" class=\"data row22 col11\" >0.37</td>\n",
       "                        <td id=\"T_e608e_row22_col12\" class=\"data row22 col12\" >0.35</td>\n",
       "                        <td id=\"T_e608e_row22_col13\" class=\"data row22 col13\" >0.32</td>\n",
       "                        <td id=\"T_e608e_row22_col14\" class=\"data row22 col14\" >0.27</td>\n",
       "                        <td id=\"T_e608e_row22_col15\" class=\"data row22 col15\" >0.44</td>\n",
       "                        <td id=\"T_e608e_row22_col16\" class=\"data row22 col16\" >0.45</td>\n",
       "                        <td id=\"T_e608e_row22_col17\" class=\"data row22 col17\" >0.05</td>\n",
       "                        <td id=\"T_e608e_row22_col18\" class=\"data row22 col18\" >0.67</td>\n",
       "                        <td id=\"T_e608e_row22_col19\" class=\"data row22 col19\" >0.06</td>\n",
       "                        <td id=\"T_e608e_row22_col20\" class=\"data row22 col20\" >0.09</td>\n",
       "                        <td id=\"T_e608e_row22_col21\" class=\"data row22 col21\" >0.82</td>\n",
       "                        <td id=\"T_e608e_row22_col22\" class=\"data row22 col22\" >1.00</td>\n",
       "            </tr>\n",
       "    </tbody></table>"
      ],
      "text/plain": [
       "<pandas.io.formats.style.Styler at 0x26066a93160>"
      ]
     },
     "execution_count": 912,
     "metadata": {},
     "output_type": "execute_result"
    }
   ],
   "source": [
    "# Построим матрицу корреляций, чтобы посмотреть какие признаки влияют на целевую переменную\n",
    "corr = df_train.corr()\n",
    "corr.style.background_gradient(cmap='coolwarm').set_precision(2)"
   ]
  },
  {
   "cell_type": "code",
   "execution_count": 913,
   "id": "5c5900ad",
   "metadata": {},
   "outputs": [],
   "source": [
    "# Удалим малоинформативные признаки\n",
    "df_train = df_train.drop(['Id', 'Healthcare_1', 'InterYear'], 1)"
   ]
  },
  {
   "cell_type": "markdown",
   "id": "9e25486d",
   "metadata": {},
   "source": [
    "### Обучение модели"
   ]
  },
  {
   "cell_type": "code",
   "execution_count": 914,
   "id": "9ad3d7d0",
   "metadata": {},
   "outputs": [
    {
     "name": "stdout",
     "output_type": "stream",
     "text": [
      "Memory usage of dataframe is 1.53 MB\n",
      "Memory usage after optimization is: 0.49 MB\n",
      "Decreased by 68.1%\n",
      "Memory usage of dataframe is 0.72 MB\n",
      "Memory usage after optimization is: 0.22 MB\n",
      "Decreased by 70.3%\n"
     ]
    }
   ],
   "source": [
    "# Загрузим тренировочный и тестовый массивы заново и прогоним через функцию оптимизации занимаемой памяти\n",
    "df_train = pd.read_csv(DATASET_PATH_TRAIN)\n",
    "df_test = pd.read_csv(DATASET_PATH_TEST)\n",
    "df_train = reduce_mem_usage(df_train)\n",
    "df_test = reduce_mem_usage(df_test)"
   ]
  },
  {
   "cell_type": "code",
   "execution_count": 915,
   "id": "542041e8",
   "metadata": {},
   "outputs": [],
   "source": [
    "y = df_train['Price']\n",
    "X = df_train.drop(columns=['Price'], axis=1)"
   ]
  },
  {
   "cell_type": "code",
   "execution_count": 916,
   "id": "6e2b0e2b",
   "metadata": {},
   "outputs": [],
   "source": [
    "# Разделяем массив на тренировочную и валидационную выборку\n",
    "X_train, X_valid, y_train, y_valid = train_test_split(X, y, test_size=0.33, random_state=42)"
   ]
  },
  {
   "cell_type": "code",
   "execution_count": 917,
   "id": "213309bb",
   "metadata": {},
   "outputs": [],
   "source": [
    "dp = DataPreprocessor()"
   ]
  },
  {
   "cell_type": "code",
   "execution_count": 918,
   "id": "98af96c4",
   "metadata": {},
   "outputs": [],
   "source": [
    "# высчитываем метрики по тренировочному массиву\n",
    "dp.fit(X_train)"
   ]
  },
  {
   "cell_type": "code",
   "execution_count": 919,
   "id": "3b4a3961",
   "metadata": {},
   "outputs": [],
   "source": [
    "# Обрабатываем пропуски, выбросы и некорректные значения на тренировочном и валидационном массивах\n",
    "X_train = dp.transform(X_train)"
   ]
  },
  {
   "cell_type": "code",
   "execution_count": 920,
   "id": "de09df58",
   "metadata": {},
   "outputs": [],
   "source": [
    "X_valid = dp.transform(X_valid)"
   ]
  },
  {
   "cell_type": "code",
   "execution_count": 921,
   "id": "790bc8f6",
   "metadata": {},
   "outputs": [],
   "source": [
    "features = {'house_age': house_age, 'med_price_dist': med_price_dist, 'med_soc_eco': med_soc_eco}"
   ]
  },
  {
   "cell_type": "code",
   "execution_count": 922,
   "id": "275e2577",
   "metadata": {},
   "outputs": [],
   "source": [
    "# Добавляем новые признаки\n",
    "X_train = add_features(X_train, features)"
   ]
  },
  {
   "cell_type": "code",
   "execution_count": 923,
   "id": "73335728",
   "metadata": {},
   "outputs": [],
   "source": [
    "X_valid = add_features(X_valid, features)"
   ]
  },
  {
   "cell_type": "code",
   "execution_count": 924,
   "id": "0b1fa096",
   "metadata": {
    "scrolled": true
   },
   "outputs": [
    {
     "name": "stdout",
     "output_type": "stream",
     "text": [
      "Train R2:\t0.702\n",
      "Test R2:\t0.653\n"
     ]
    },
    {
     "data": {
      "image/png": "[encoded data removed]",
      "text/plain": [
       "<Figure size 1296x720 with 2 Axes>"
      ]
     },
     "metadata": {
      "needs_background": "light"
     },
     "output_type": "display_data"
    }
   ],
   "source": [
    "# Обучаем модель RandomForestRegressor и сравниваем предсказания\n",
    "model_RFR = RandomForestRegressor(max_depth=8, min_samples_split=100, n_estimators=500, n_jobs=-1, random_state=42)\n",
    "model_RFR.fit(X_train, y_train)\n",
    "y_train_preds = model_RFR.predict(X_train)\n",
    "y_valid_preds = model_RFR.predict(X_valid)\n",
    "evaluate_preds(y_train, y_train_preds, y_valid, y_valid_preds)\n",
    "# Разница между предсказаниями не первышает 10% от тестового R2, значит переобучения не было"
   ]
  },
  {
   "cell_type": "markdown",
   "id": "7faba91f",
   "metadata": {},
   "source": [
    "### Важность признаков"
   ]
  },
  {
   "cell_type": "code",
   "execution_count": 925,
   "id": "e2afc1db",
   "metadata": {},
   "outputs": [
    {
     "data": {
      "text/html": [
       "<div>\n",
       "<style scoped>\n",
       "    .dataframe tbody tr th:only-of-type {\n",
       "        vertical-align: middle;\n",
       "    }\n",
       "\n",
       "    .dataframe tbody tr th {\n",
       "        vertical-align: top;\n",
       "    }\n",
       "\n",
       "    .dataframe thead th {\n",
       "        text-align: right;\n",
       "    }\n",
       "</style>\n",
       "<table border=\"1\" class=\"dataframe\">\n",
       "  <thead>\n",
       "    <tr style=\"text-align: right;\">\n",
       "      <th></th>\n",
       "      <th>feature_name</th>\n",
       "      <th>importance</th>\n",
       "    </tr>\n",
       "  </thead>\n",
       "  <tbody>\n",
       "    <tr>\n",
       "      <th>2</th>\n",
       "      <td>Square</td>\n",
       "      <td>0.288901</td>\n",
       "    </tr>\n",
       "    <tr>\n",
       "      <th>1</th>\n",
       "      <td>Rooms</td>\n",
       "      <td>0.240132</td>\n",
       "    </tr>\n",
       "    <tr>\n",
       "      <th>13</th>\n",
       "      <td>Social_3</td>\n",
       "      <td>0.141463</td>\n",
       "    </tr>\n",
       "    <tr>\n",
       "      <th>11</th>\n",
       "      <td>Social_1</td>\n",
       "      <td>0.067525</td>\n",
       "    </tr>\n",
       "    <tr>\n",
       "      <th>12</th>\n",
       "      <td>Social_2</td>\n",
       "      <td>0.054767</td>\n",
       "    </tr>\n",
       "    <tr>\n",
       "      <th>0</th>\n",
       "      <td>DistrictId</td>\n",
       "      <td>0.048854</td>\n",
       "    </tr>\n",
       "    <tr>\n",
       "      <th>3</th>\n",
       "      <td>LifeSquare</td>\n",
       "      <td>0.045271</td>\n",
       "    </tr>\n",
       "    <tr>\n",
       "      <th>8</th>\n",
       "      <td>Ecology_1</td>\n",
       "      <td>0.029332</td>\n",
       "    </tr>\n",
       "    <tr>\n",
       "      <th>4</th>\n",
       "      <td>KitchenSquare</td>\n",
       "      <td>0.029326</td>\n",
       "    </tr>\n",
       "    <tr>\n",
       "      <th>15</th>\n",
       "      <td>Shops_1</td>\n",
       "      <td>0.016378</td>\n",
       "    </tr>\n",
       "    <tr>\n",
       "      <th>7</th>\n",
       "      <td>HouseYear</td>\n",
       "      <td>0.015991</td>\n",
       "    </tr>\n",
       "    <tr>\n",
       "      <th>6</th>\n",
       "      <td>HouseFloor</td>\n",
       "      <td>0.011717</td>\n",
       "    </tr>\n",
       "    <tr>\n",
       "      <th>14</th>\n",
       "      <td>Helthcare_2</td>\n",
       "      <td>0.007445</td>\n",
       "    </tr>\n",
       "    <tr>\n",
       "      <th>5</th>\n",
       "      <td>Floor</td>\n",
       "      <td>0.002581</td>\n",
       "    </tr>\n",
       "    <tr>\n",
       "      <th>10</th>\n",
       "      <td>Ecology_3</td>\n",
       "      <td>0.000136</td>\n",
       "    </tr>\n",
       "    <tr>\n",
       "      <th>16</th>\n",
       "      <td>Shops_2</td>\n",
       "      <td>0.000130</td>\n",
       "    </tr>\n",
       "    <tr>\n",
       "      <th>9</th>\n",
       "      <td>Ecology_2</td>\n",
       "      <td>0.000050</td>\n",
       "    </tr>\n",
       "  </tbody>\n",
       "</table>\n",
       "</div>"
      ],
      "text/plain": [
       "     feature_name  importance\n",
       "2          Square    0.288901\n",
       "1           Rooms    0.240132\n",
       "13       Social_3    0.141463\n",
       "11       Social_1    0.067525\n",
       "12       Social_2    0.054767\n",
       "0      DistrictId    0.048854\n",
       "3      LifeSquare    0.045271\n",
       "8       Ecology_1    0.029332\n",
       "4   KitchenSquare    0.029326\n",
       "15        Shops_1    0.016378\n",
       "7       HouseYear    0.015991\n",
       "6      HouseFloor    0.011717\n",
       "14    Helthcare_2    0.007445\n",
       "5           Floor    0.002581\n",
       "10      Ecology_3    0.000136\n",
       "16        Shops_2    0.000130\n",
       "9       Ecology_2    0.000050"
      ]
     },
     "execution_count": 925,
     "metadata": {},
     "output_type": "execute_result"
    }
   ],
   "source": [
    "# Выведем признаки в порядке наибольшей значимости\n",
    "feature_importances = pd.DataFrame(zip(X_train.columns, model_RFR.feature_importances_), \n",
    "                                   columns=['feature_name', 'importance'])\n",
    "\n",
    "feature_importances.sort_values(by='importance', ascending=False)"
   ]
  },
  {
   "cell_type": "markdown",
   "id": "7010c512",
   "metadata": {},
   "source": [
    "### Формирование файла с прогнозами"
   ]
  },
  {
   "cell_type": "code",
   "execution_count": 926,
   "id": "0c1e1228",
   "metadata": {},
   "outputs": [
    {
     "data": {
      "text/plain": [
       "Index(['Id', 'Price'], dtype='object')"
      ]
     },
     "execution_count": 926,
     "metadata": {},
     "output_type": "execute_result"
    }
   ],
   "source": [
    "# Загрузим пример файла с прогнозами и заменим столбец Price на результаты, предсказанные на тестовой выборке\n",
    "df_sample = pd.read_csv(DATASET_PATH_SAMPLE)\n",
    "df_sample.columns"
   ]
  },
  {
   "cell_type": "code",
   "execution_count": 927,
   "id": "2a00e246",
   "metadata": {},
   "outputs": [
    {
     "data": {
      "text/html": [
       "<div>\n",
       "<style scoped>\n",
       "    .dataframe tbody tr th:only-of-type {\n",
       "        vertical-align: middle;\n",
       "    }\n",
       "\n",
       "    .dataframe tbody tr th {\n",
       "        vertical-align: top;\n",
       "    }\n",
       "\n",
       "    .dataframe thead th {\n",
       "        text-align: right;\n",
       "    }\n",
       "</style>\n",
       "<table border=\"1\" class=\"dataframe\">\n",
       "  <thead>\n",
       "    <tr style=\"text-align: right;\">\n",
       "      <th></th>\n",
       "      <th>Id</th>\n",
       "      <th>Price</th>\n",
       "    </tr>\n",
       "  </thead>\n",
       "  <tbody>\n",
       "    <tr>\n",
       "      <th>0</th>\n",
       "      <td>4567</td>\n",
       "      <td>200000.0</td>\n",
       "    </tr>\n",
       "    <tr>\n",
       "      <th>1</th>\n",
       "      <td>5925</td>\n",
       "      <td>200000.0</td>\n",
       "    </tr>\n",
       "    <tr>\n",
       "      <th>2</th>\n",
       "      <td>960</td>\n",
       "      <td>200000.0</td>\n",
       "    </tr>\n",
       "    <tr>\n",
       "      <th>3</th>\n",
       "      <td>3848</td>\n",
       "      <td>200000.0</td>\n",
       "    </tr>\n",
       "    <tr>\n",
       "      <th>4</th>\n",
       "      <td>746</td>\n",
       "      <td>200000.0</td>\n",
       "    </tr>\n",
       "  </tbody>\n",
       "</table>\n",
       "</div>"
      ],
      "text/plain": [
       "     Id     Price\n",
       "0  4567  200000.0\n",
       "1  5925  200000.0\n",
       "2   960  200000.0\n",
       "3  3848  200000.0\n",
       "4   746  200000.0"
      ]
     },
     "execution_count": 927,
     "metadata": {},
     "output_type": "execute_result"
    }
   ],
   "source": [
    "df_sample.head()"
   ]
  },
  {
   "cell_type": "code",
   "execution_count": 928,
   "id": "9ac12362",
   "metadata": {},
   "outputs": [],
   "source": [
    "df_test = dp.transform(df_test)"
   ]
  },
  {
   "cell_type": "code",
   "execution_count": 929,
   "id": "a4c4bb2a",
   "metadata": {},
   "outputs": [],
   "source": [
    "df_test = add_features(df_test, features)"
   ]
  },
  {
   "cell_type": "code",
   "execution_count": 930,
   "id": "1ced9929",
   "metadata": {},
   "outputs": [],
   "source": [
    "y_test_preds = model_RFR.predict(df_test)"
   ]
  },
  {
   "cell_type": "code",
   "execution_count": 931,
   "id": "4ecd346f",
   "metadata": {},
   "outputs": [],
   "source": [
    "df_sample['Price'] = y_test_preds"
   ]
  },
  {
   "cell_type": "code",
   "execution_count": 932,
   "id": "2a6d89ca",
   "metadata": {},
   "outputs": [
    {
     "data": {
      "text/html": [
       "<div>\n",
       "<style scoped>\n",
       "    .dataframe tbody tr th:only-of-type {\n",
       "        vertical-align: middle;\n",
       "    }\n",
       "\n",
       "    .dataframe tbody tr th {\n",
       "        vertical-align: top;\n",
       "    }\n",
       "\n",
       "    .dataframe thead th {\n",
       "        text-align: right;\n",
       "    }\n",
       "</style>\n",
       "<table border=\"1\" class=\"dataframe\">\n",
       "  <thead>\n",
       "    <tr style=\"text-align: right;\">\n",
       "      <th></th>\n",
       "      <th>Id</th>\n",
       "      <th>Price</th>\n",
       "    </tr>\n",
       "  </thead>\n",
       "  <tbody>\n",
       "    <tr>\n",
       "      <th>0</th>\n",
       "      <td>4567</td>\n",
       "      <td>157453.769129</td>\n",
       "    </tr>\n",
       "    <tr>\n",
       "      <th>1</th>\n",
       "      <td>5925</td>\n",
       "      <td>129626.291033</td>\n",
       "    </tr>\n",
       "    <tr>\n",
       "      <th>2</th>\n",
       "      <td>960</td>\n",
       "      <td>161356.260037</td>\n",
       "    </tr>\n",
       "    <tr>\n",
       "      <th>3</th>\n",
       "      <td>3848</td>\n",
       "      <td>146644.831990</td>\n",
       "    </tr>\n",
       "    <tr>\n",
       "      <th>4</th>\n",
       "      <td>746</td>\n",
       "      <td>251728.737387</td>\n",
       "    </tr>\n",
       "  </tbody>\n",
       "</table>\n",
       "</div>"
      ],
      "text/plain": [
       "     Id          Price\n",
       "0  4567  157453.769129\n",
       "1  5925  129626.291033\n",
       "2   960  161356.260037\n",
       "3  3848  146644.831990\n",
       "4   746  251728.737387"
      ]
     },
     "execution_count": 932,
     "metadata": {},
     "output_type": "execute_result"
    }
   ],
   "source": [
    "df_sample.head()"
   ]
  },
  {
   "cell_type": "code",
   "execution_count": 933,
   "id": "14e2c80c",
   "metadata": {},
   "outputs": [],
   "source": [
    "# Выгружаем файл для загрузки на kaggle\n",
    "df_sample.to_csv(\"./predictions_.csv\", index=False)"
   ]
  },
  {
   "cell_type": "markdown",
   "id": "c5ba3b42",
   "metadata": {},
   "source": [
    "Аккаунт на kaggle: Baturina Yuliya (Батурина Юлия)"
   ]
  }
 ],
 "metadata": {
  "kernelspec": {
   "display_name": "Python 3",
   "language": "python",
   "name": "python3"
  },
  "language_info": {
   "codemirror_mode": {
    "name": "ipython",
    "version": 3
   },
   "file_extension": ".py",
   "mimetype": "text/x-python",
   "name": "python",
   "nbconvert_exporter": "python",
   "pygments_lexer": "ipython3",
   "version": "3.8.8"
  }
 },
 "nbformat": 4,
 "nbformat_minor": 5
}
