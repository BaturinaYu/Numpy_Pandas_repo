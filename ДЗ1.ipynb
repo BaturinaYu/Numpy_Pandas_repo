{
 "cells": [
  {
   "cell_type": "markdown",
   "id": "436071c3",
   "metadata": {},
   "source": [
    "### Урок 1. Введение в задачу классификации. Постановка задачи и подготовка данных."
   ]
  },
  {
   "cell_type": "markdown",
   "id": "47c42f82",
   "metadata": {},
   "source": [
    "**1. Приведите по 2 примера, когда лучше максимизировать Precision, а когда Recall.**"
   ]
  },
  {
   "cell_type": "markdown",
   "id": "44244860",
   "metadata": {},
   "source": [
    "Лучше максимизировать Recall:\n",
    "- в задачах распознавания текста, т.к. здесь важно количество распознанных символов, точностью можно пренебречь\n",
    "- в задачах постановки диагноза, угрожающего жизни пациента, т.к. важно выявить всех возможных заболевших, чтобы своевременно назначить лечение"
   ]
  },
  {
   "cell_type": "markdown",
   "id": "c2830248",
   "metadata": {},
   "source": [
    "Лучше максимизировать Precision:\n",
    "- в случае, когда фирма будет нести серьёзные репутационные потери при отнесении клиента к неверной категории\n",
    "- когда по данным зондирования почв нужно определить наличие полезных ископаемых, т.к. разработка месторождения дорогостоящее мероприятие"
   ]
  },
  {
   "cell_type": "markdown",
   "id": "b1205454",
   "metadata": {},
   "source": [
    "### Почему мы используем F-меру, почему, например, нельзя просто взять среднее от Precision и Recall?"
   ]
  },
  {
   "cell_type": "markdown",
   "id": "335130f3",
   "metadata": {},
   "source": [
    "Во-первых, F-мера позволяет оценить в как Precision, так и Recall.\n",
    "Во-вторых, F-мера позволяет варьировать влияние Precision и Recall для каждой конкретной задачи."
   ]
  }
 ],
 "metadata": {
  "kernelspec": {
   "display_name": "Python 3",
   "language": "python",
   "name": "python3"
  },
  "language_info": {
   "codemirror_mode": {
    "name": "ipython",
    "version": 3
   },
   "file_extension": ".py",
   "mimetype": "text/x-python",
   "name": "python",
   "nbconvert_exporter": "python",
   "pygments_lexer": "ipython3",
   "version": "3.8.8"
  }
 },
 "nbformat": 4,
 "nbformat_minor": 5
}
